{
 "cells": [
  {
   "cell_type": "markdown",
   "metadata": {},
   "source": [
    "### Figure S8\n",
    "\n",
    "Bar chart with losses per return period per country"
   ]
  },
  {
   "cell_type": "code",
   "execution_count": 2,
   "metadata": {},
   "outputs": [],
   "source": [
    "import sys\n",
    "sys.path.append(\"..\") #import folder which is one level higher\n",
    "\n",
    "import geopandas as gpd\n",
    "import matplotlib.cbook as cbook\n",
    "import matplotlib.pyplot as plt\n",
    "import numpy as np\n",
    "import os as os\n",
    "import pandas as pd\n",
    "import seaborn as sns\n",
    "\n",
    "from tqdm import tqdm\n",
    "\n",
    "from utils_functions import load_config\n",
    "from postproc_functions import *\n",
    "\n",
    "pd.set_option('max_columns', 100)"
   ]
  },
  {
   "cell_type": "code",
   "execution_count": 3,
   "metadata": {},
   "outputs": [
    {
     "name": "stderr",
     "output_type": "stream",
     "text": [
      "100%|█████████████████████████████████████████████████████████████████████████████| 1417/1417 [00:03<00:00, 429.38it/s]\n"
     ]
    }
   ],
   "source": [
    "### SELECT THE REGIONS FOR WHICH TO LOAD THE RESULTS\n",
    "pp_out_path = load_config()['paths']['postproc_output']\n",
    "baseline_results = os.path.join(pp_out_path,'baseline')                              \n",
    "\n",
    "NUTS0 = NUTS_0_list(EU28=True,EFTA=True,CAND=True) #draw the list of NUTS-0 regions\n",
    "NUTS0 = [e for e in NUTS0 if e not in ['IS','MT','CY','TR']] #drop Iceland, Malta, Cyprus and Turkey\n",
    "NUTS3_lst = []\n",
    "for N0 in NUTS0:\n",
    "    NUTS3_lst.extend(NUTS_up(N0,True)) #find all the correspondign NUTS-3 regions\n",
    "regions = [elem for elem in NUTS3_lst if elem not in NUTS_3_remote(Overseas=True,Creta=True,Spain=True)]\n",
    "\n",
    "### LOAD AND STRUCTURE THE OSM LIGHTING MIX RESULTS WHICH HAVE ALREADY BEEN POSTPROCESSED\n",
    "df = pd.DataFrame()\n",
    "exceptions2 = []\n",
    "for region in tqdm(regions):\n",
    "    try:\n",
    "        df = df.append(pd.read_pickle(os.path.join(baseline_results,\"{}_EAD_roadtype_litmix.pkl\".format(region))))\n",
    "    except Exception as e:\n",
    "        exceptions2.append(str(region)+str(e))\n",
    "        \n",
    "#for e in exceptions2:\n",
    "    #print(e)"
   ]
  },
  {
   "cell_type": "code",
   "execution_count": null,
   "metadata": {},
   "outputs": [],
   "source": [
    "exceptions2"
   ]
  },
  {
   "cell_type": "code",
   "execution_count": 4,
   "metadata": {},
   "outputs": [
    {
     "data": {
      "text/html": [
       "<div>\n",
       "<style scoped>\n",
       "    .dataframe tbody tr th:only-of-type {\n",
       "        vertical-align: middle;\n",
       "    }\n",
       "\n",
       "    .dataframe tbody tr th {\n",
       "        vertical-align: top;\n",
       "    }\n",
       "\n",
       "    .dataframe thead th {\n",
       "        text-align: right;\n",
       "    }\n",
       "</style>\n",
       "<table border=\"1\" class=\"dataframe\">\n",
       "  <thead>\n",
       "    <tr style=\"text-align: right;\">\n",
       "      <th></th>\n",
       "    </tr>\n",
       "  </thead>\n",
       "  <tbody>\n",
       "  </tbody>\n",
       "</table>\n",
       "</div>"
      ],
      "text/plain": [
       "Empty DataFrame\n",
       "Columns: []\n",
       "Index: []"
      ]
     },
     "execution_count": 4,
     "metadata": {},
     "output_type": "execute_result"
    }
   ],
   "source": [
    "df1 = df.copy()\n",
    "df1.head()"
   ]
  },
  {
   "cell_type": "code",
   "execution_count": 7,
   "metadata": {},
   "outputs": [
    {
     "data": {
      "text/html": [
       "<div>\n",
       "<style scoped>\n",
       "    .dataframe tbody tr th:only-of-type {\n",
       "        vertical-align: middle;\n",
       "    }\n",
       "\n",
       "    .dataframe tbody tr th {\n",
       "        vertical-align: top;\n",
       "    }\n",
       "\n",
       "    .dataframe thead th {\n",
       "        text-align: right;\n",
       "    }\n",
       "</style>\n",
       "<table border=\"1\" class=\"dataframe\">\n",
       "  <thead>\n",
       "    <tr style=\"text-align: right;\">\n",
       "      <th></th>\n",
       "      <th>road_type</th>\n",
       "      <th>NUTS-0</th>\n",
       "      <th>EAD_litmix_avg</th>\n",
       "    </tr>\n",
       "  </thead>\n",
       "  <tbody>\n",
       "    <tr>\n",
       "      <th>0</th>\n",
       "      <td>other</td>\n",
       "      <td>AL</td>\n",
       "      <td>767.734007</td>\n",
       "    </tr>\n",
       "    <tr>\n",
       "      <th>1</th>\n",
       "      <td>secondary</td>\n",
       "      <td>AL</td>\n",
       "      <td>7174.488352</td>\n",
       "    </tr>\n",
       "    <tr>\n",
       "      <th>2</th>\n",
       "      <td>tertiary</td>\n",
       "      <td>AL</td>\n",
       "      <td>229.445880</td>\n",
       "    </tr>\n",
       "    <tr>\n",
       "      <th>3</th>\n",
       "      <td>track</td>\n",
       "      <td>AL</td>\n",
       "      <td>112.809963</td>\n",
       "    </tr>\n",
       "    <tr>\n",
       "      <th>4</th>\n",
       "      <td>none</td>\n",
       "      <td>AL</td>\n",
       "      <td>0.000000</td>\n",
       "    </tr>\n",
       "    <tr>\n",
       "      <th>5</th>\n",
       "      <td>other</td>\n",
       "      <td>AL</td>\n",
       "      <td>20963.875993</td>\n",
       "    </tr>\n",
       "    <tr>\n",
       "      <th>6</th>\n",
       "      <td>primary</td>\n",
       "      <td>AL</td>\n",
       "      <td>7347.173333</td>\n",
       "    </tr>\n",
       "    <tr>\n",
       "      <th>7</th>\n",
       "      <td>secondary</td>\n",
       "      <td>AL</td>\n",
       "      <td>12834.900674</td>\n",
       "    </tr>\n",
       "    <tr>\n",
       "      <th>8</th>\n",
       "      <td>tertiary</td>\n",
       "      <td>AL</td>\n",
       "      <td>8097.203146</td>\n",
       "    </tr>\n",
       "    <tr>\n",
       "      <th>9</th>\n",
       "      <td>track</td>\n",
       "      <td>AL</td>\n",
       "      <td>4861.367116</td>\n",
       "    </tr>\n",
       "  </tbody>\n",
       "</table>\n",
       "</div>"
      ],
      "text/plain": [
       "   road_type NUTS-0  EAD_litmix_avg\n",
       "0      other     AL      767.734007\n",
       "1  secondary     AL     7174.488352\n",
       "2   tertiary     AL      229.445880\n",
       "3      track     AL      112.809963\n",
       "4       none     AL        0.000000\n",
       "5      other     AL    20963.875993\n",
       "6    primary     AL     7347.173333\n",
       "7  secondary     AL    12834.900674\n",
       "8   tertiary     AL     8097.203146\n",
       "9      track     AL     4861.367116"
      ]
     },
     "execution_count": 7,
     "metadata": {},
     "output_type": "execute_result"
    }
   ],
   "source": [
    "df1['NUTS-0'] = df1['NUTS-3'].map(lambda x: NUTS_down(NUTS_down(NUTS_down(x)))) #derive country codes from NUTS-3 names\n",
    "#df2 = df1.groupby('NUTS-0').sum() #sum by country\n",
    "df1 = df1.reset_index()\n",
    "df1['EAD_litmix_avg'] = df1[['EAD_lowflow', 'EAD_highflow']].mean(axis=1) #take the average of lowflow and highflow for litmix\n",
    "df1 = df1.drop(columns=['EAD_HZ','EAD_lowflow','EAD_highflow','NUTS-3'])\n",
    "df1.head(n=10)"
   ]
  },
  {
   "cell_type": "code",
   "execution_count": 8,
   "metadata": {},
   "outputs": [],
   "source": [
    "df2 = df1.groupby(by=['NUTS-0','road_type']).sum() #returns a multi-index\n",
    "df2 = df2.unstack() #unstack the multi-index\n",
    "df2.columns = df2.columns.droplevel() #drop the nasty multilevel column index\n",
    "df2.drop(columns=['none','track'],inplace=True) #drop unused road types\n",
    "order = ['motorway','trunk','primary','secondary','tertiary','other'] #reorder the columns for nice plotitng\n",
    "df2 = df2.reindex(columns=order)\n",
    "df2.columns = ['Motorway','Trunk','Primary','Secondary','Tertiary','Other'] #Including capitals"
   ]
  },
  {
   "cell_type": "code",
   "execution_count": 9,
   "metadata": {},
   "outputs": [
    {
     "name": "stdout",
     "output_type": "stream",
     "text": [
      "Checksum: all damage is: 230.50773807982335 mln euro per year\n"
     ]
    }
   ],
   "source": [
    "df2['total'] = df2.sum(axis=1) #calculate the sum to order\n",
    "df2.sort_values(by='total',axis=0,ascending=False,inplace=True)\n",
    "print(\"Checksum: all damage is: {} mln euro per year\".format(df2['total'].sum()*10**(-6)))\n",
    "df2.drop(columns=['total'],inplace=True) #remove the total column again"
   ]
  },
  {
   "cell_type": "code",
   "execution_count": 10,
   "metadata": {},
   "outputs": [],
   "source": [
    "df3 = df2[df2.columns[::-1]] #reverse the order of the columns\n",
    "df3 = df3*10**(-6)"
   ]
  },
  {
   "cell_type": "code",
   "execution_count": 11,
   "metadata": {},
   "outputs": [],
   "source": [
    "#set figure settings:\n",
    "brew_1 =  ['#ffffb2','#fed976','#feb24c','#fd8d3c','#f03b20','#bd0026']"
   ]
  },
  {
   "cell_type": "code",
   "execution_count": 12,
   "metadata": {},
   "outputs": [
    {
     "data": {
      "text/plain": [
       "Text(0, 0.5, 'Expected annual damage in million Euro per year')"
      ]
     },
     "execution_count": 12,
     "metadata": {},
     "output_type": "execute_result"
    },
    {
     "data": {
      "image/png": "[encoded data removed]",
      "text/plain": [
       "<Figure size 864x432 with 1 Axes>"
      ]
     },
     "metadata": {
      "needs_background": "light"
     },
     "output_type": "display_data"
    }
   ],
   "source": [
    "fig,ax = plt.subplots(1,1,figsize=(12,6))\n",
    "df3.plot(kind='bar',stacked=True,ax=ax,color=brew_1,linewidth=0.5,edgecolor='black')\n",
    "fs = 10 #fontsize\n",
    "\n",
    "handles_2, labels_2 = ax.get_legend_handles_labels() \n",
    "ax.legend(handles_2[::-1], labels_2[::-1],title='        Road type') #inverse the order of the labels\n",
    "\n",
    "ax.set_title('Road transport flood risk per European country (absolute)', fontsize=fs, fontweight='bold')\n",
    "ax.set_xlabel('NUTS-0 country code', fontsize=fs)\n",
    "ax.set_ylabel('Expected annual damage in million Euro per year', fontsize=fs)\n",
    "\n",
    "#plt.savefig(\"Paper_Figure_SI_3A_EAD_per_country.png\", dpi=200, bbox_inches=\"tight\")"
   ]
  },
  {
   "cell_type": "code",
   "execution_count": 15,
   "metadata": {},
   "outputs": [
    {
     "data": {
      "text/plain": [
       "2.2629489109111454"
      ]
     },
     "execution_count": 15,
     "metadata": {},
     "output_type": "execute_result"
    }
   ],
   "source": [
    "df3.loc['NL'].sum()"
   ]
  },
  {
   "cell_type": "code",
   "execution_count": 213,
   "metadata": {},
   "outputs": [],
   "source": [
    "#RELATIVE"
   ]
  },
  {
   "cell_type": "code",
   "execution_count": 221,
   "metadata": {},
   "outputs": [],
   "source": [
    "df4 = df3.apply(lambda x: 100 * x/x.sum(axis=0), axis=1)"
   ]
  },
  {
   "cell_type": "code",
   "execution_count": 228,
   "metadata": {},
   "outputs": [
    {
     "data": {
      "image/png": "[encoded data removed]",
      "text/plain": [
       "<Figure size 864x432 with 1 Axes>"
      ]
     },
     "metadata": {
      "needs_background": "light"
     },
     "output_type": "display_data"
    }
   ],
   "source": [
    "fig,ax = plt.subplots(1,1,figsize=(12,6))\n",
    "df4.plot(kind='bar',stacked=True,ax=ax,color=brew_1,linewidth=0.5,edgecolor='black')\n",
    "fs = 10 #fontsize\n",
    "\n",
    "#handles_2, labels_2 = ax.get_legend_handles_labels() \n",
    "#ax.legend(handles_2[::-1], labels_2[::-1],title='        Road type') #inverse the order of the labels\n",
    "ax.get_legend().remove()\n",
    "\n",
    "ax.set_title('Relative contributions per road type', fontsize=fs)\n",
    "ax.set_xlabel('NUTS-0 country code', fontsize=fs)\n",
    "ax.set_ylabel('% of total damage per road type', fontsize=fs)\n",
    "\n",
    "plt.savefig(\"Paper_Figure_SI_3B_EAD_per_country.png\", dpi=200, bbox_inches=\"tight\")"
   ]
  }
 ],
 "metadata": {
  "kernelspec": {
   "display_name": "Python 3",
   "language": "python",
   "name": "python3"
  },
  "language_info": {
   "codemirror_mode": {
    "name": "ipython",
    "version": 3
   },
   "file_extension": ".py",
   "mimetype": "text/x-python",
   "name": "python",
   "nbconvert_exporter": "python",
   "pygments_lexer": "ipython3",
   "version": "3.8.1"
  }
 },
 "nbformat": 4,
 "nbformat_minor": 4
}
