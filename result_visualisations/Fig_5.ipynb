{
 "cells": [
  {
   "cell_type": "markdown",
   "metadata": {},
   "source": [
    "# Visualisation of the uncertainty in the baseline scenario\n",
    "Script to visualise the uncertainty for the baseline results. Figure 4 in the new version 1.0 of the paper (were two seperate figures 4 and 5 before)"
   ]
  },
  {
   "cell_type": "code",
   "execution_count": 1,
   "metadata": {},
   "outputs": [],
   "source": [
    "import sys\n",
    "sys.path.append(\"..\") #import folder which is one level higher\n",
    "\n",
    "import geopandas as gpd\n",
    "import matplotlib.cbook as cbook\n",
    "import matplotlib.pyplot as plt\n",
    "import numpy as np\n",
    "import os as os\n",
    "import pandas as pd\n",
    "import seaborn as sns\n",
    "\n",
    "from tqdm import tqdm\n",
    "\n",
    "from utils_functions import load_config\n",
    "from postproc_functions import *\n",
    "\n",
    "pd.set_option('max_columns', 100)"
   ]
  },
  {
   "cell_type": "markdown",
   "metadata": {},
   "source": [
    "### LOAD THE POSTPROCESSED DATA (OBJECT-BASED)"
   ]
  },
  {
   "cell_type": "code",
   "execution_count": 2,
   "metadata": {},
   "outputs": [
    {
     "name": "stderr",
     "output_type": "stream",
     "text": [
      "100%|██████████████████████████████████████████████████████████████████████████████| 1420/1420 [00:26<00:00, 54.44it/s]\n"
     ]
    }
   ],
   "source": [
    "#Load all the postprocessed data:\n",
    "pp_out_path = load_config()['paths']['postproc_output']\n",
    "baseline_results = os.path.join(pp_out_path,'baseline')\n",
    "\n",
    "#super_region = \"EU_28\"\n",
    "############### CHOOSE YOUR PLOT SETTINGS HERE ###############\n",
    "#regions = NUTS_3_EU28_cleaned()\n",
    "#regions = post.NUTS_up(super_region,True)\n",
    "##############                                 ###############\n",
    "\n",
    "\n",
    "NUTS0 = NUTS_0_list(EU28=True,EFTA=True, CAND=True) #draw the list of NUTS-0 regions\n",
    "NUTS0 = [e for e in NUTS0 if e not in ['IS','MT','CY','TR']] #drop Iceland, Malta, Turkey and Cyprus for now\n",
    "NUTS3_lst = []\n",
    "for N0 in NUTS0:\n",
    "    NUTS3_lst.extend(NUTS_up(N0,True)) #find all the correspondign NUTS-3 regions\n",
    "\n",
    "regions = [e for e in NUTS3_lst if e not in NUTS_3_remote()]\n",
    "    #remove all the NUTS-3 regions we don't want to plot\n",
    "\n",
    "### LOAD AND STRUCTURE THE OSM LIGHTING MIX RESULTS WHICH HAVE ALREADY BEEN POSTPROCESSED\n",
    "df = pd.DataFrame()\n",
    "exceptions = []\n",
    "for region in tqdm(regions):\n",
    "    try:\n",
    "        df = df.append(pd.read_pickle(os.path.join(baseline_results,\"{}_EAD_roadtype_nomix.pkl\".format(region))))\n",
    "    except Exception as e:\n",
    "        exceptions.append(str(region)+str(e))\n",
    "        \n",
    "#for e in exceptions:\n",
    "#    print(e)"
   ]
  },
  {
   "cell_type": "code",
   "execution_count": 3,
   "metadata": {},
   "outputs": [],
   "source": [
    "df2 = aggregate_tuplecollection(df,df.columns[0:-1],df.columns[-1]) # the last argument does not make sense in this application\n",
    "df3 = df2.drop('NUTS-3',axis=1)\n",
    "df3 = df3.drop(['none','track'], axis=0)\n",
    "df_HZ = df3['EAD_HZ']\n",
    "df3 = df3.drop(['EAD_HZ'],axis=1) "
   ]
  },
  {
   "cell_type": "code",
   "execution_count": 4,
   "metadata": {},
   "outputs": [
    {
     "data": {
      "text/plain": [
       "EAD_C1    (22480967.12329829, 57027240.74399942, 9167042...\n",
       "EAD_C2    (27947447.13428621, 71395947.55725886, 1148444...\n",
       "EAD_C3    (5719674.455252798, 14655890.17106257, 2359210...\n",
       "EAD_C4    (48233081.853301466, 123495761.19184467, 19875...\n",
       "EAD_C5    (17841086.12325338, 26761629.546993364, 356821...\n",
       "EAD_C6    (137271354.53945243, 205907019.2372163, 274542...\n",
       "dtype: object"
      ]
     },
     "execution_count": 4,
     "metadata": {},
     "output_type": "execute_result"
    }
   ],
   "source": [
    "df4 = df3.agg(sum_tuples)\n",
    "df4"
   ]
  },
  {
   "cell_type": "markdown",
   "metadata": {},
   "source": [
    "### Prepare the Huizinga df for plotting"
   ]
  },
  {
   "cell_type": "code",
   "execution_count": 5,
   "metadata": {},
   "outputs": [],
   "source": [
    "df_HZ = df_HZ.to_frame().T"
   ]
  },
  {
   "cell_type": "code",
   "execution_count": 6,
   "metadata": {},
   "outputs": [
    {
     "data": {
      "text/html": [
       "<div>\n",
       "<style scoped>\n",
       "    .dataframe tbody tr th:only-of-type {\n",
       "        vertical-align: middle;\n",
       "    }\n",
       "\n",
       "    .dataframe tbody tr th {\n",
       "        vertical-align: top;\n",
       "    }\n",
       "\n",
       "    .dataframe thead th {\n",
       "        text-align: right;\n",
       "    }\n",
       "</style>\n",
       "<table border=\"1\" class=\"dataframe\">\n",
       "  <thead>\n",
       "    <tr style=\"text-align: right;\">\n",
       "      <th>road_type</th>\n",
       "      <th>other</th>\n",
       "      <th>tertiary</th>\n",
       "      <th>secondary</th>\n",
       "      <th>primary</th>\n",
       "      <th>trunk</th>\n",
       "      <th>motorway</th>\n",
       "    </tr>\n",
       "  </thead>\n",
       "  <tbody>\n",
       "    <tr>\n",
       "      <th>(3) Object-based with Huizinga</th>\n",
       "      <td>8.952398e+07</td>\n",
       "      <td>3.055504e+07</td>\n",
       "      <td>3.372188e+07</td>\n",
       "      <td>2.811543e+07</td>\n",
       "      <td>1.475267e+07</td>\n",
       "      <td>1.883793e+07</td>\n",
       "    </tr>\n",
       "  </tbody>\n",
       "</table>\n",
       "</div>"
      ],
      "text/plain": [
       "road_type                              other      tertiary     secondary  \\\n",
       "(3) Object-based with Huizinga  8.952398e+07  3.055504e+07  3.372188e+07   \n",
       "\n",
       "road_type                            primary         trunk      motorway  \n",
       "(3) Object-based with Huizinga  2.811543e+07  1.475267e+07  1.883793e+07  "
      ]
     },
     "execution_count": 6,
     "metadata": {},
     "output_type": "execute_result"
    }
   ],
   "source": [
    "df_HZ.index = ['(3) Object-based with Huizinga']\n",
    "df_HZ = df_HZ.reindex(columns=['motorway','trunk','primary','secondary','tertiary','other']) \n",
    "    # 'track' and 'none' are automatically removed from the data if they are not reindexed!\n",
    "#df_HZ = df_HZ*10**(-6)\n",
    "\n",
    "df_HZ = df_HZ[df_HZ.columns[::-1]] #reverse the order of the columns\n",
    "df_HZ"
   ]
  },
  {
   "cell_type": "code",
   "execution_count": 67,
   "metadata": {},
   "outputs": [
    {
     "name": "stdout",
     "output_type": "stream",
     "text": [
      "(3) Object-based with Huizinga    2.155069e+08\n",
      "dtype: float64\n"
     ]
    }
   ],
   "source": [
    "#Total of object-based approach with Huizinga damage functions (object-translated)\n",
    "HZ_sum = df_HZ.sum(axis=1)\n",
    "print(HZ_sum)"
   ]
  },
  {
   "cell_type": "code",
   "execution_count": 73,
   "metadata": {},
   "outputs": [
    {
     "data": {
      "text/plain": [
       "215506932.42560294"
      ]
     },
     "execution_count": 73,
     "metadata": {},
     "output_type": "execute_result"
    }
   ],
   "source": []
  },
  {
   "cell_type": "code",
   "execution_count": 74,
   "metadata": {},
   "outputs": [
    {
     "data": {
      "text/html": [
       "<div>\n",
       "<style scoped>\n",
       "    .dataframe tbody tr th:only-of-type {\n",
       "        vertical-align: middle;\n",
       "    }\n",
       "\n",
       "    .dataframe tbody tr th {\n",
       "        vertical-align: top;\n",
       "    }\n",
       "\n",
       "    .dataframe thead th {\n",
       "        text-align: right;\n",
       "    }\n",
       "</style>\n",
       "<table border=\"1\" class=\"dataframe\">\n",
       "  <thead>\n",
       "    <tr style=\"text-align: right;\">\n",
       "      <th>road_type</th>\n",
       "      <th>other</th>\n",
       "      <th>tertiary</th>\n",
       "      <th>secondary</th>\n",
       "      <th>primary</th>\n",
       "      <th>trunk</th>\n",
       "      <th>motorway</th>\n",
       "    </tr>\n",
       "  </thead>\n",
       "  <tbody>\n",
       "    <tr>\n",
       "      <th>(3) Object-based with Huizinga</th>\n",
       "      <td>41.541113</td>\n",
       "      <td>14.178218</td>\n",
       "      <td>15.647701</td>\n",
       "      <td>13.046184</td>\n",
       "      <td>6.845568</td>\n",
       "      <td>8.741217</td>\n",
       "    </tr>\n",
       "  </tbody>\n",
       "</table>\n",
       "</div>"
      ],
      "text/plain": [
       "road_type                           other   tertiary  secondary    primary  \\\n",
       "(3) Object-based with Huizinga  41.541113  14.178218  15.647701  13.046184   \n",
       "\n",
       "road_type                          trunk  motorway  \n",
       "(3) Object-based with Huizinga  6.845568  8.741217  "
      ]
     },
     "execution_count": 74,
     "metadata": {},
     "output_type": "execute_result"
    }
   ],
   "source": [
    "#Percentages of HZ per road type\n",
    "100*df_HZ/HZ_sum.values[0]"
   ]
  },
  {
   "cell_type": "markdown",
   "metadata": {},
   "source": [
    "## Load the litmix data"
   ]
  },
  {
   "cell_type": "code",
   "execution_count": 7,
   "metadata": {},
   "outputs": [
    {
     "name": "stderr",
     "output_type": "stream",
     "text": [
      "100%|██████████████████████████████████████████████████████████████████████████████| 1420/1420 [00:21<00:00, 66.65it/s]\n"
     ]
    }
   ],
   "source": [
    "#Load all the postprocessed data:\n",
    "\n",
    "### LOAD AND STRUCTURE THE OSM LIGHTING MIX RESULTS WHICH HAVE ALREADY BEEN POSTPROCESSED\n",
    "df = pd.DataFrame()\n",
    "exceptions2 = []\n",
    "for region in tqdm(regions):\n",
    "    try:\n",
    "        df = df.append(pd.read_pickle(os.path.join(baseline_results,\"{}_EAD_roadtype_litmix.pkl\".format(region))))\n",
    "    except Exception as e:\n",
    "        exceptions2.append(str(region)+str(e))\n",
    "        \n",
    "#for e in exceptions2:\n",
    "    #print(e)"
   ]
  },
  {
   "cell_type": "code",
   "execution_count": 8,
   "metadata": {},
   "outputs": [
    {
     "data": {
      "text/html": [
       "<div>\n",
       "<style scoped>\n",
       "    .dataframe tbody tr th:only-of-type {\n",
       "        vertical-align: middle;\n",
       "    }\n",
       "\n",
       "    .dataframe tbody tr th {\n",
       "        vertical-align: top;\n",
       "    }\n",
       "\n",
       "    .dataframe thead th {\n",
       "        text-align: right;\n",
       "    }\n",
       "</style>\n",
       "<table border=\"1\" class=\"dataframe\">\n",
       "  <thead>\n",
       "    <tr style=\"text-align: right;\">\n",
       "      <th></th>\n",
       "      <th>EAD_HZ</th>\n",
       "      <th>EAD_lowflow</th>\n",
       "      <th>EAD_highflow</th>\n",
       "      <th>NUTS-3</th>\n",
       "    </tr>\n",
       "    <tr>\n",
       "      <th>road_type</th>\n",
       "      <th></th>\n",
       "      <th></th>\n",
       "      <th></th>\n",
       "      <th></th>\n",
       "    </tr>\n",
       "  </thead>\n",
       "  <tbody>\n",
       "    <tr>\n",
       "      <th>other</th>\n",
       "      <td>1480.791685</td>\n",
       "      <td>190.603745</td>\n",
       "      <td>1344.864270</td>\n",
       "      <td>AL011</td>\n",
       "    </tr>\n",
       "    <tr>\n",
       "      <th>secondary</th>\n",
       "      <td>8069.426292</td>\n",
       "      <td>1792.190936</td>\n",
       "      <td>12556.785768</td>\n",
       "      <td>AL011</td>\n",
       "    </tr>\n",
       "    <tr>\n",
       "      <th>tertiary</th>\n",
       "      <td>428.943745</td>\n",
       "      <td>56.110187</td>\n",
       "      <td>402.781573</td>\n",
       "      <td>AL011</td>\n",
       "    </tr>\n",
       "    <tr>\n",
       "      <th>track</th>\n",
       "      <td>1208.615955</td>\n",
       "      <td>28.119401</td>\n",
       "      <td>197.500524</td>\n",
       "      <td>AL011</td>\n",
       "    </tr>\n",
       "    <tr>\n",
       "      <th>none</th>\n",
       "      <td>0.000000</td>\n",
       "      <td>0.000000</td>\n",
       "      <td>0.000000</td>\n",
       "      <td>AL012</td>\n",
       "    </tr>\n",
       "    <tr>\n",
       "      <th>...</th>\n",
       "      <td>...</td>\n",
       "      <td>...</td>\n",
       "      <td>...</td>\n",
       "      <td>...</td>\n",
       "    </tr>\n",
       "    <tr>\n",
       "      <th>none</th>\n",
       "      <td>0.000000</td>\n",
       "      <td>0.000000</td>\n",
       "      <td>0.000000</td>\n",
       "      <td>UKH25</td>\n",
       "    </tr>\n",
       "    <tr>\n",
       "      <th>other</th>\n",
       "      <td>3482.673034</td>\n",
       "      <td>532.998876</td>\n",
       "      <td>4263.837640</td>\n",
       "      <td>UKH25</td>\n",
       "    </tr>\n",
       "    <tr>\n",
       "      <th>tertiary</th>\n",
       "      <td>1947.195506</td>\n",
       "      <td>252.766854</td>\n",
       "      <td>2021.250000</td>\n",
       "      <td>UKH25</td>\n",
       "    </tr>\n",
       "    <tr>\n",
       "      <th>track</th>\n",
       "      <td>4702.655056</td>\n",
       "      <td>120.997753</td>\n",
       "      <td>961.328090</td>\n",
       "      <td>UKH25</td>\n",
       "    </tr>\n",
       "    <tr>\n",
       "      <th>trunk</th>\n",
       "      <td>3291.950562</td>\n",
       "      <td>4257.726404</td>\n",
       "      <td>5763.214045</td>\n",
       "      <td>UKH25</td>\n",
       "    </tr>\n",
       "  </tbody>\n",
       "</table>\n",
       "<p>8701 rows × 4 columns</p>\n",
       "</div>"
      ],
      "text/plain": [
       "                EAD_HZ  EAD_lowflow  EAD_highflow NUTS-3\n",
       "road_type                                               \n",
       "other      1480.791685   190.603745   1344.864270  AL011\n",
       "secondary  8069.426292  1792.190936  12556.785768  AL011\n",
       "tertiary    428.943745    56.110187    402.781573  AL011\n",
       "track      1208.615955    28.119401    197.500524  AL011\n",
       "none          0.000000     0.000000      0.000000  AL012\n",
       "...                ...          ...           ...    ...\n",
       "none          0.000000     0.000000      0.000000  UKH25\n",
       "other      3482.673034   532.998876   4263.837640  UKH25\n",
       "tertiary   1947.195506   252.766854   2021.250000  UKH25\n",
       "track      4702.655056   120.997753    961.328090  UKH25\n",
       "trunk      3291.950562  4257.726404   5763.214045  UKH25\n",
       "\n",
       "[8701 rows x 4 columns]"
      ]
     },
     "execution_count": 8,
     "metadata": {},
     "output_type": "execute_result"
    }
   ],
   "source": [
    "df"
   ]
  },
  {
   "cell_type": "code",
   "execution_count": 9,
   "metadata": {},
   "outputs": [],
   "source": [
    "#dfA = aggregate_tuplecollection(df,df.columns[0:-1],df.columns[-1]) # the last argument does not make sense in this application\n",
    "dfA = df.copy()\n",
    "dfA.drop(['NUTS-3','EAD_HZ'],axis=1,inplace=True)\n",
    "dfA.drop(['none','track'],axis=0,inplace=True)\n",
    "dfB = dfA.mean(axis=1)"
   ]
  },
  {
   "cell_type": "code",
   "execution_count": 10,
   "metadata": {},
   "outputs": [
    {
     "data": {
      "text/plain": [
       "230673912.64950272"
      ]
     },
     "execution_count": 10,
     "metadata": {},
     "output_type": "execute_result"
    }
   ],
   "source": [
    "dfB.sum(axis=0)"
   ]
  },
  {
   "cell_type": "code",
   "execution_count": 11,
   "metadata": {},
   "outputs": [
    {
     "data": {
      "text/html": [
       "<div>\n",
       "<style scoped>\n",
       "    .dataframe tbody tr th:only-of-type {\n",
       "        vertical-align: middle;\n",
       "    }\n",
       "\n",
       "    .dataframe tbody tr th {\n",
       "        vertical-align: top;\n",
       "    }\n",
       "\n",
       "    .dataframe thead th {\n",
       "        text-align: right;\n",
       "    }\n",
       "</style>\n",
       "<table border=\"1\" class=\"dataframe\">\n",
       "  <thead>\n",
       "    <tr style=\"text-align: right;\">\n",
       "      <th></th>\n",
       "      <th>EAD_lowflow</th>\n",
       "      <th>EAD_highflow</th>\n",
       "    </tr>\n",
       "    <tr>\n",
       "      <th>road_type</th>\n",
       "      <th></th>\n",
       "      <th></th>\n",
       "    </tr>\n",
       "  </thead>\n",
       "  <tbody>\n",
       "    <tr>\n",
       "      <th>motorway</th>\n",
       "      <td>1.944453e+07</td>\n",
       "      <td>9.818208e+07</td>\n",
       "    </tr>\n",
       "    <tr>\n",
       "      <th>other</th>\n",
       "      <td>1.235958e+07</td>\n",
       "      <td>9.559643e+07</td>\n",
       "    </tr>\n",
       "    <tr>\n",
       "      <th>primary</th>\n",
       "      <td>1.170504e+07</td>\n",
       "      <td>8.924753e+07</td>\n",
       "    </tr>\n",
       "    <tr>\n",
       "      <th>secondary</th>\n",
       "      <td>7.861324e+06</td>\n",
       "      <td>6.055819e+07</td>\n",
       "    </tr>\n",
       "    <tr>\n",
       "      <th>tertiary</th>\n",
       "      <td>3.756233e+06</td>\n",
       "      <td>2.914054e+07</td>\n",
       "    </tr>\n",
       "    <tr>\n",
       "      <th>trunk</th>\n",
       "      <td>5.026503e+06</td>\n",
       "      <td>2.846985e+07</td>\n",
       "    </tr>\n",
       "  </tbody>\n",
       "</table>\n",
       "</div>"
      ],
      "text/plain": [
       "            EAD_lowflow  EAD_highflow\n",
       "road_type                            \n",
       "motorway   1.944453e+07  9.818208e+07\n",
       "other      1.235958e+07  9.559643e+07\n",
       "primary    1.170504e+07  8.924753e+07\n",
       "secondary  7.861324e+06  6.055819e+07\n",
       "tertiary   3.756233e+06  2.914054e+07\n",
       "trunk      5.026503e+06  2.846985e+07"
      ]
     },
     "execution_count": 11,
     "metadata": {},
     "output_type": "execute_result"
    }
   ],
   "source": [
    "dfC = dfA.groupby('road_type').sum()\n",
    "dfC"
   ]
  },
  {
   "cell_type": "code",
   "execution_count": 12,
   "metadata": {},
   "outputs": [
    {
     "data": {
      "text/plain": [
       "road_type\n",
       "motorway     25.496296\n",
       "other        23.400136\n",
       "primary      21.882094\n",
       "secondary    14.830353\n",
       "tertiary      7.130580\n",
       "trunk         7.260542\n",
       "dtype: float64"
      ]
     },
     "execution_count": 12,
     "metadata": {},
     "output_type": "execute_result"
    }
   ],
   "source": [
    "dfD = dfC.mean(axis=1)\n",
    "100 * dfD/dfD.sum()"
   ]
  },
  {
   "cell_type": "code",
   "execution_count": 13,
   "metadata": {},
   "outputs": [
    {
     "data": {
      "text/plain": [
       "230673912.6495028"
      ]
     },
     "execution_count": 13,
     "metadata": {},
     "output_type": "execute_result"
    }
   ],
   "source": [
    "dfD.sum()"
   ]
  },
  {
   "cell_type": "code",
   "execution_count": 14,
   "metadata": {},
   "outputs": [
    {
     "name": "stdout",
     "output_type": "stream",
     "text": [
      "road_type\n",
      "other          767.734007\n",
      "secondary     7174.488352\n",
      "tertiary       229.445880\n",
      "other        20963.875993\n",
      "primary       7347.173333\n",
      "                 ...     \n",
      "tertiary      3099.281461\n",
      "trunk        20294.476685\n",
      "other         2398.418258\n",
      "tertiary      1137.008427\n",
      "trunk         5010.470225\n",
      "Length: 6309, dtype: float64\n"
     ]
    },
    {
     "data": {
      "text/plain": [
       "36562.67437779406"
      ]
     },
     "execution_count": 14,
     "metadata": {},
     "output_type": "execute_result"
    }
   ],
   "source": [
    "\n",
    "#df3 = df3.drop(['none','track'], axis=0)\n",
    "print(dfB)\n",
    "dfB.mean(axis=0)"
   ]
  },
  {
   "cell_type": "code",
   "execution_count": 15,
   "metadata": {},
   "outputs": [
    {
     "data": {
      "text/html": [
       "<div>\n",
       "<style scoped>\n",
       "    .dataframe tbody tr th:only-of-type {\n",
       "        vertical-align: middle;\n",
       "    }\n",
       "\n",
       "    .dataframe tbody tr th {\n",
       "        vertical-align: top;\n",
       "    }\n",
       "\n",
       "    .dataframe thead th {\n",
       "        text-align: right;\n",
       "    }\n",
       "</style>\n",
       "<table border=\"1\" class=\"dataframe\">\n",
       "  <thead>\n",
       "    <tr style=\"text-align: right;\">\n",
       "      <th></th>\n",
       "      <th>EAD_lowflow</th>\n",
       "      <th>EAD_highflow</th>\n",
       "    </tr>\n",
       "    <tr>\n",
       "      <th>road_type</th>\n",
       "      <th></th>\n",
       "      <th></th>\n",
       "    </tr>\n",
       "  </thead>\n",
       "  <tbody>\n",
       "    <tr>\n",
       "      <th>other</th>\n",
       "      <td>0.000191</td>\n",
       "      <td>0.001345</td>\n",
       "    </tr>\n",
       "    <tr>\n",
       "      <th>secondary</th>\n",
       "      <td>0.001792</td>\n",
       "      <td>0.012557</td>\n",
       "    </tr>\n",
       "    <tr>\n",
       "      <th>tertiary</th>\n",
       "      <td>0.000056</td>\n",
       "      <td>0.000403</td>\n",
       "    </tr>\n",
       "    <tr>\n",
       "      <th>other</th>\n",
       "      <td>0.004750</td>\n",
       "      <td>0.037178</td>\n",
       "    </tr>\n",
       "    <tr>\n",
       "      <th>primary</th>\n",
       "      <td>0.001639</td>\n",
       "      <td>0.013055</td>\n",
       "    </tr>\n",
       "    <tr>\n",
       "      <th>...</th>\n",
       "      <td>...</td>\n",
       "      <td>...</td>\n",
       "    </tr>\n",
       "    <tr>\n",
       "      <th>tertiary</th>\n",
       "      <td>0.000689</td>\n",
       "      <td>0.005510</td>\n",
       "    </tr>\n",
       "    <tr>\n",
       "      <th>trunk</th>\n",
       "      <td>0.009941</td>\n",
       "      <td>0.030648</td>\n",
       "    </tr>\n",
       "    <tr>\n",
       "      <th>other</th>\n",
       "      <td>0.000533</td>\n",
       "      <td>0.004264</td>\n",
       "    </tr>\n",
       "    <tr>\n",
       "      <th>tertiary</th>\n",
       "      <td>0.000253</td>\n",
       "      <td>0.002021</td>\n",
       "    </tr>\n",
       "    <tr>\n",
       "      <th>trunk</th>\n",
       "      <td>0.004258</td>\n",
       "      <td>0.005763</td>\n",
       "    </tr>\n",
       "  </tbody>\n",
       "</table>\n",
       "<p>6309 rows × 2 columns</p>\n",
       "</div>"
      ],
      "text/plain": [
       "           EAD_lowflow  EAD_highflow\n",
       "road_type                           \n",
       "other         0.000191      0.001345\n",
       "secondary     0.001792      0.012557\n",
       "tertiary      0.000056      0.000403\n",
       "other         0.004750      0.037178\n",
       "primary       0.001639      0.013055\n",
       "...                ...           ...\n",
       "tertiary      0.000689      0.005510\n",
       "trunk         0.009941      0.030648\n",
       "other         0.000533      0.004264\n",
       "tertiary      0.000253      0.002021\n",
       "trunk         0.004258      0.005763\n",
       "\n",
       "[6309 rows x 2 columns]"
      ]
     },
     "execution_count": 15,
     "metadata": {},
     "output_type": "execute_result"
    }
   ],
   "source": [
    "dfA*10**(-6)"
   ]
  },
  {
   "cell_type": "code",
   "execution_count": 16,
   "metadata": {},
   "outputs": [],
   "source": [
    "litmix_avg = dfA.mean(axis=1) #average of the litmix"
   ]
  },
  {
   "cell_type": "code",
   "execution_count": 17,
   "metadata": {},
   "outputs": [
    {
     "data": {
      "text/plain": [
       "road_type\n",
       "other          767.734007\n",
       "secondary     7174.488352\n",
       "tertiary       229.445880\n",
       "other        20963.875993\n",
       "primary       7347.173333\n",
       "                 ...     \n",
       "tertiary      3099.281461\n",
       "trunk        20294.476685\n",
       "other         2398.418258\n",
       "tertiary      1137.008427\n",
       "trunk         5010.470225\n",
       "Length: 6309, dtype: float64"
      ]
     },
     "execution_count": 17,
     "metadata": {},
     "output_type": "execute_result"
    }
   ],
   "source": [
    "litmix_avg"
   ]
  },
  {
   "cell_type": "code",
   "execution_count": 18,
   "metadata": {},
   "outputs": [
    {
     "data": {
      "text/plain": [
       "36562.67437779406"
      ]
     },
     "execution_count": 18,
     "metadata": {},
     "output_type": "execute_result"
    }
   ],
   "source": [
    "litmix_avg.mean()"
   ]
  },
  {
   "cell_type": "markdown",
   "metadata": {},
   "source": [
    "## Load the sampled data"
   ]
  },
  {
   "cell_type": "code",
   "execution_count": 48,
   "metadata": {},
   "outputs": [
    {
     "name": "stderr",
     "output_type": "stream",
     "text": [
      "100%|█████████████████████████████████████████████████████████████████████████████| 1420/1420 [00:06<00:00, 229.73it/s]\n"
     ]
    }
   ],
   "source": [
    "## Load the sampled data\n",
    "df = pd.DataFrame()\n",
    "exceptions3 = []\n",
    "\n",
    "for region in tqdm(regions):\n",
    "    try:\n",
    "        df = df.append(pd.read_pickle(os.path.join(pp_out_path,'baseline_sampled',\"{}_EAD_total_sampled.pkl\".format(region))))\n",
    "    except Exception as e:\n",
    "        exceptions3.append(str(region)+str(e))\n",
    "\n",
    "df_samples = df.copy()\n",
    "df_samples_sum = df_samples.sum(axis=0)"
   ]
  },
  {
   "cell_type": "code",
   "execution_count": 49,
   "metadata": {},
   "outputs": [
    {
     "data": {
      "text/plain": [
       "count    1.000000e+02\n",
       "mean     2.463519e+08\n",
       "std      8.432779e+07\n",
       "min      3.978342e+07\n",
       "5%       1.021110e+08\n",
       "25%      1.960009e+08\n",
       "50%      2.485515e+08\n",
       "75%      2.974329e+08\n",
       "95%      3.653441e+08\n",
       "max      4.739586e+08\n",
       "dtype: float64"
      ]
     },
     "execution_count": 49,
     "metadata": {},
     "output_type": "execute_result"
    }
   ],
   "source": [
    "df_samples_sum.describe( percentiles=[0.05,.25, .5, .75,0.95])"
   ]
  },
  {
   "cell_type": "code",
   "execution_count": 50,
   "metadata": {},
   "outputs": [
    {
     "data": {
      "text/plain": [
       "248551502.0324712"
      ]
     },
     "execution_count": 50,
     "metadata": {},
     "output_type": "execute_result"
    }
   ],
   "source": [
    "df_samples_sum.median()"
   ]
  },
  {
   "cell_type": "code",
   "execution_count": 52,
   "metadata": {},
   "outputs": [],
   "source": [
    "#mean_confidence_interval(df_samples_sum,confidence=0.95)"
   ]
  },
  {
   "cell_type": "code",
   "execution_count": 53,
   "metadata": {},
   "outputs": [
    {
     "data": {
      "text/plain": [
       "246.35192020093427"
      ]
     },
     "execution_count": 53,
     "metadata": {},
     "output_type": "execute_result"
    }
   ],
   "source": [
    "df_samples_sum.mean()*10**(-6)"
   ]
  },
  {
   "cell_type": "markdown",
   "metadata": {},
   "source": [
    "## Left-hand panel LUISA part (run code below plot first)"
   ]
  },
  {
   "cell_type": "markdown",
   "metadata": {},
   "source": [
    "### LUISA"
   ]
  },
  {
   "cell_type": "code",
   "execution_count": 40,
   "metadata": {},
   "outputs": [
    {
     "data": {
      "text/html": [
       "<div>\n",
       "<style scoped>\n",
       "    .dataframe tbody tr th:only-of-type {\n",
       "        vertical-align: middle;\n",
       "    }\n",
       "\n",
       "    .dataframe tbody tr th {\n",
       "        vertical-align: top;\n",
       "    }\n",
       "\n",
       "    .dataframe thead th {\n",
       "        text-align: right;\n",
       "    }\n",
       "</style>\n",
       "<table border=\"1\" class=\"dataframe\">\n",
       "  <thead>\n",
       "    <tr style=\"text-align: right;\">\n",
       "      <th></th>\n",
       "      <th>Road and rail \\n networks and \\n associated land</th>\n",
       "      <th>Urban fabric</th>\n",
       "      <th>Industrial or \\n commercial \\n units</th>\n",
       "      <th>Other</th>\n",
       "    </tr>\n",
       "  </thead>\n",
       "  <tbody>\n",
       "    <tr>\n",
       "      <th>0</th>\n",
       "      <td>1.477832e+08</td>\n",
       "      <td>5.040596e+07</td>\n",
       "      <td>6.960133e+07</td>\n",
       "      <td>3.928506e+07</td>\n",
       "    </tr>\n",
       "  </tbody>\n",
       "</table>\n",
       "</div>"
      ],
      "text/plain": [
       "   Road and rail \\n networks and \\n associated land  Urban fabric  \\\n",
       "0                                      1.477832e+08  5.040596e+07   \n",
       "\n",
       "   Industrial or \\n commercial \\n units         Other  \n",
       "0                          6.960133e+07  3.928506e+07  "
      ]
     },
     "execution_count": 40,
     "metadata": {},
     "output_type": "execute_result"
    }
   ],
   "source": [
    "df_inf_N0_agg.rename(mapper=sum_labels, inplace=True, axis=1)\n",
    "df10 = df_inf_N0_agg\n",
    "#df11 = df10.loc[df10.index==super_region]\n",
    "df11 = pd.DataFrame(df10.sum(axis=0))\n",
    "df11 = df11.T\n",
    "df11"
   ]
  },
  {
   "cell_type": "code",
   "execution_count": 41,
   "metadata": {},
   "outputs": [
    {
     "data": {
      "text/plain": [
       "0    3.070756e+08\n",
       "dtype: float64"
      ]
     },
     "execution_count": 41,
     "metadata": {},
     "output_type": "execute_result"
    }
   ],
   "source": [
    "#Total damage according to the grid-based method (LISFLOOD + LUISA)\n",
    "df11.sum(axis=1)"
   ]
  },
  {
   "cell_type": "markdown",
   "metadata": {},
   "source": [
    "### CORINE"
   ]
  },
  {
   "cell_type": "code",
   "execution_count": 42,
   "metadata": {},
   "outputs": [
    {
     "data": {
      "text/html": [
       "<div>\n",
       "<style scoped>\n",
       "    .dataframe tbody tr th:only-of-type {\n",
       "        vertical-align: middle;\n",
       "    }\n",
       "\n",
       "    .dataframe tbody tr th {\n",
       "        vertical-align: top;\n",
       "    }\n",
       "\n",
       "    .dataframe thead th {\n",
       "        text-align: right;\n",
       "    }\n",
       "</style>\n",
       "<table border=\"1\" class=\"dataframe\">\n",
       "  <thead>\n",
       "    <tr style=\"text-align: right;\">\n",
       "      <th></th>\n",
       "      <th>Road and rail \\n networks and \\n associated land</th>\n",
       "      <th>Urban fabric</th>\n",
       "      <th>Industrial or \\n commercial \\n units</th>\n",
       "      <th>Water</th>\n",
       "      <th>Other</th>\n",
       "    </tr>\n",
       "  </thead>\n",
       "  <tbody>\n",
       "    <tr>\n",
       "      <th>0</th>\n",
       "      <td>1.471716e+07</td>\n",
       "      <td>8.719265e+07</td>\n",
       "      <td>5.797679e+07</td>\n",
       "      <td>3.438308e+08</td>\n",
       "      <td>2.810704e+07</td>\n",
       "    </tr>\n",
       "  </tbody>\n",
       "</table>\n",
       "</div>"
      ],
      "text/plain": [
       "   Road and rail \\n networks and \\n associated land  Urban fabric  \\\n",
       "0                                      1.471716e+07  8.719265e+07   \n",
       "\n",
       "   Industrial or \\n commercial \\n units         Water         Other  \n",
       "0                          5.797679e+07  3.438308e+08  2.810704e+07  "
      ]
     },
     "execution_count": 42,
     "metadata": {},
     "output_type": "execute_result"
    }
   ],
   "source": [
    "df_inf2_N0_agg.rename(mapper=sum_labels, inplace=True, axis=1)\n",
    "df20 = df_inf2_N0_agg.copy()\n",
    "df21 = pd.DataFrame(df20.sum(axis=0))\n",
    "df21 = df21.T\n",
    "df21"
   ]
  },
  {
   "cell_type": "code",
   "execution_count": 43,
   "metadata": {},
   "outputs": [
    {
     "data": {
      "text/html": [
       "<div>\n",
       "<style scoped>\n",
       "    .dataframe tbody tr th:only-of-type {\n",
       "        vertical-align: middle;\n",
       "    }\n",
       "\n",
       "    .dataframe tbody tr th {\n",
       "        vertical-align: top;\n",
       "    }\n",
       "\n",
       "    .dataframe thead th {\n",
       "        text-align: right;\n",
       "    }\n",
       "</style>\n",
       "<table border=\"1\" class=\"dataframe\">\n",
       "  <thead>\n",
       "    <tr style=\"text-align: right;\">\n",
       "      <th></th>\n",
       "      <th>Road and rail \\n networks and \\n associated land</th>\n",
       "      <th>Urban fabric</th>\n",
       "      <th>Industrial or \\n commercial \\n units</th>\n",
       "      <th>Water</th>\n",
       "      <th>Other</th>\n",
       "    </tr>\n",
       "  </thead>\n",
       "  <tbody>\n",
       "    <tr>\n",
       "      <th>(1) CORINE</th>\n",
       "      <td>1.471716e+07</td>\n",
       "      <td>8.719265e+07</td>\n",
       "      <td>5.797679e+07</td>\n",
       "      <td>3.438308e+08</td>\n",
       "      <td>2.810704e+07</td>\n",
       "    </tr>\n",
       "    <tr>\n",
       "      <th>(2) LUISA</th>\n",
       "      <td>1.477832e+08</td>\n",
       "      <td>5.040596e+07</td>\n",
       "      <td>6.960133e+07</td>\n",
       "      <td>NaN</td>\n",
       "      <td>3.928506e+07</td>\n",
       "    </tr>\n",
       "  </tbody>\n",
       "</table>\n",
       "</div>"
      ],
      "text/plain": [
       "            Road and rail \\n networks and \\n associated land  Urban fabric  \\\n",
       "(1) CORINE                                      1.471716e+07  8.719265e+07   \n",
       "(2) LUISA                                       1.477832e+08  5.040596e+07   \n",
       "\n",
       "            Industrial or \\n commercial \\n units         Water         Other  \n",
       "(1) CORINE                          5.797679e+07  3.438308e+08  2.810704e+07  \n",
       "(2) LUISA                           6.960133e+07           NaN  3.928506e+07  "
      ]
     },
     "execution_count": 43,
     "metadata": {},
     "output_type": "execute_result"
    }
   ],
   "source": [
    "#Merge the CORINE and LUISA results\n",
    "#df200\n",
    "df200 = df21.append(df11,sort=False)\n",
    "df200.index = ['(1) CORINE','(2) LUISA']\n",
    "df200"
   ]
  },
  {
   "cell_type": "markdown",
   "metadata": {},
   "source": [
    "## Prepare boxplots to visualise uncertainty in damage curves (middle panel)"
   ]
  },
  {
   "cell_type": "code",
   "execution_count": 55,
   "metadata": {},
   "outputs": [],
   "source": [
    "#for now, ignore sophisticated function [later to replace using the lighting mix]\n",
    "lows_soph = sum_tuples([df4['EAD_C1'],df4['EAD_C5']]) #not used (hardly any difference on total?)\n",
    "highs_soph = sum_tuples([df4['EAD_C2'],df4['EAD_C6']]) #not used (hardly any difference on total?)\n",
    "lows_simple = sum_tuples([df4['EAD_C3'],df4['EAD_C5']])\n",
    "highs_simple = sum_tuples([df4['EAD_C4'],df4['EAD_C6']])"
   ]
  },
  {
   "cell_type": "code",
   "execution_count": 56,
   "metadata": {},
   "outputs": [],
   "source": [
    "lows_soph = tuple(x * 10**(-6) for x in lows_soph)\n",
    "highs_soph = tuple(x * 10**(-6) for x in highs_soph)\n",
    "lows_simple = tuple(x * 10**(-6) for x in lows_simple)\n",
    "highs_simple = tuple(x * 10**(-6) for x in highs_simple)"
   ]
  },
  {
   "cell_type": "code",
   "execution_count": 57,
   "metadata": {},
   "outputs": [
    {
     "name": "stdout",
     "output_type": "stream",
     "text": [
      "266.28770471485296\n"
     ]
    }
   ],
   "source": [
    "#for simple road accessories, the average of the low-flow and the high-flow curve\n",
    "print((lows_simple[2] + highs_simple[2])/2)"
   ]
  },
  {
   "cell_type": "code",
   "execution_count": 58,
   "metadata": {},
   "outputs": [],
   "source": [
    "low_soph = {'label' : 'Low flow [Curve 1 and 5]',\n",
    "       'mean' : 14,\n",
    "       'whislo' : lows_simple[0],\n",
    "       'q1' : lows_simple[1],\n",
    "       'med' : lows_simple[2],\n",
    "       'q3' : lows_simple[3],\n",
    "       'whishi' : lows_simple[4]}\n",
    "\n",
    "high_soph = {'label' : 'High flow [Curve 2 and 6]',\n",
    "       'mean' : highs_simple[0],\n",
    "       'whislo' : highs_simple[0],\n",
    "       'q1' : highs_simple[1],\n",
    "       'med' : highs_simple[2],\n",
    "       'q3' : highs_simple[3],\n",
    "       'whishi' : highs_simple[4]}\n",
    "\n",
    "low_simple = {'label' : 'Low flow \\n[Curve 3 and 5]',\n",
    "       'mean' : 14,\n",
    "       'whislo' : lows_simple[0],\n",
    "       'q1' : lows_simple[1],\n",
    "       'med' : lows_simple[2],\n",
    "       'q3' : lows_simple[3],\n",
    "       'whishi' : lows_simple[4]}\n",
    "\n",
    "high_simple = {'label' : 'High flow \\n[Curve 4 and 6]',\n",
    "       'mean' : highs_simple[0],\n",
    "       'whislo' : highs_simple[0],\n",
    "       'q1' : highs_simple[1],\n",
    "       'med' : highs_simple[2],\n",
    "       'q3' : highs_simple[3],\n",
    "       'whishi' : highs_simple[4]}\n",
    "\n",
    "stats = [low_simple,high_simple]"
   ]
  },
  {
   "cell_type": "markdown",
   "metadata": {},
   "source": [
    "## Visualisation break-down of total damage (right-hand panel)"
   ]
  },
  {
   "cell_type": "code",
   "execution_count": 27,
   "metadata": {},
   "outputs": [
    {
     "data": {
      "text/html": [
       "<div>\n",
       "<style scoped>\n",
       "    .dataframe tbody tr th:only-of-type {\n",
       "        vertical-align: middle;\n",
       "    }\n",
       "\n",
       "    .dataframe tbody tr th {\n",
       "        vertical-align: top;\n",
       "    }\n",
       "\n",
       "    .dataframe thead th {\n",
       "        text-align: right;\n",
       "    }\n",
       "</style>\n",
       "<table border=\"1\" class=\"dataframe\">\n",
       "  <thead>\n",
       "    <tr style=\"text-align: right;\">\n",
       "      <th></th>\n",
       "      <th>0</th>\n",
       "    </tr>\n",
       "    <tr>\n",
       "      <th>road_type</th>\n",
       "      <th></th>\n",
       "    </tr>\n",
       "  </thead>\n",
       "  <tbody>\n",
       "    <tr>\n",
       "      <th>other</th>\n",
       "      <td>767.734007</td>\n",
       "    </tr>\n",
       "    <tr>\n",
       "      <th>secondary</th>\n",
       "      <td>7174.488352</td>\n",
       "    </tr>\n",
       "    <tr>\n",
       "      <th>tertiary</th>\n",
       "      <td>229.445880</td>\n",
       "    </tr>\n",
       "    <tr>\n",
       "      <th>other</th>\n",
       "      <td>20963.875993</td>\n",
       "    </tr>\n",
       "    <tr>\n",
       "      <th>primary</th>\n",
       "      <td>7347.173333</td>\n",
       "    </tr>\n",
       "    <tr>\n",
       "      <th>...</th>\n",
       "      <td>...</td>\n",
       "    </tr>\n",
       "    <tr>\n",
       "      <th>tertiary</th>\n",
       "      <td>3099.281461</td>\n",
       "    </tr>\n",
       "    <tr>\n",
       "      <th>trunk</th>\n",
       "      <td>20294.476685</td>\n",
       "    </tr>\n",
       "    <tr>\n",
       "      <th>other</th>\n",
       "      <td>2398.418258</td>\n",
       "    </tr>\n",
       "    <tr>\n",
       "      <th>tertiary</th>\n",
       "      <td>1137.008427</td>\n",
       "    </tr>\n",
       "    <tr>\n",
       "      <th>trunk</th>\n",
       "      <td>5010.470225</td>\n",
       "    </tr>\n",
       "  </tbody>\n",
       "</table>\n",
       "<p>6309 rows × 1 columns</p>\n",
       "</div>"
      ],
      "text/plain": [
       "                      0\n",
       "road_type              \n",
       "other        767.734007\n",
       "secondary   7174.488352\n",
       "tertiary     229.445880\n",
       "other      20963.875993\n",
       "primary     7347.173333\n",
       "...                 ...\n",
       "tertiary    3099.281461\n",
       "trunk      20294.476685\n",
       "other       2398.418258\n",
       "tertiary    1137.008427\n",
       "trunk       5010.470225\n",
       "\n",
       "[6309 rows x 1 columns]"
      ]
     },
     "execution_count": 27,
     "metadata": {},
     "output_type": "execute_result"
    }
   ],
   "source": [
    "pd.DataFrame(litmix_avg)"
   ]
  },
  {
   "cell_type": "code",
   "execution_count": 28,
   "metadata": {},
   "outputs": [
    {
     "data": {
      "text/html": [
       "<div>\n",
       "<style scoped>\n",
       "    .dataframe tbody tr th:only-of-type {\n",
       "        vertical-align: middle;\n",
       "    }\n",
       "\n",
       "    .dataframe tbody tr th {\n",
       "        vertical-align: top;\n",
       "    }\n",
       "\n",
       "    .dataframe thead th {\n",
       "        text-align: right;\n",
       "    }\n",
       "</style>\n",
       "<table border=\"1\" class=\"dataframe\">\n",
       "  <thead>\n",
       "    <tr style=\"text-align: right;\">\n",
       "      <th>road_type</th>\n",
       "      <th>other</th>\n",
       "      <th>tertiary</th>\n",
       "      <th>secondary</th>\n",
       "      <th>primary</th>\n",
       "      <th>trunk</th>\n",
       "      <th>motorway</th>\n",
       "    </tr>\n",
       "  </thead>\n",
       "  <tbody>\n",
       "    <tr>\n",
       "      <th>(4) Best estimate</th>\n",
       "      <td>53.978008</td>\n",
       "      <td>16.448387</td>\n",
       "      <td>34.209755</td>\n",
       "      <td>50.476282</td>\n",
       "      <td>16.748177</td>\n",
       "      <td>58.813303</td>\n",
       "    </tr>\n",
       "  </tbody>\n",
       "</table>\n",
       "</div>"
      ],
      "text/plain": [
       "road_type              other   tertiary  secondary    primary      trunk  \\\n",
       "(4) Best estimate  53.978008  16.448387  34.209755  50.476282  16.748177   \n",
       "\n",
       "road_type           motorway  \n",
       "(4) Best estimate  58.813303  "
      ]
     },
     "execution_count": 28,
     "metadata": {},
     "output_type": "execute_result"
    }
   ],
   "source": [
    "#Investigate the composition of the high-flow graph; Curve 4 and 6\n",
    "#df5 = df2[['EAD_C4','EAD_C6']].applymap(lambda x : pick_tuple(x,2))\n",
    "\n",
    "#bar = pd.DataFrame(df5.sum(axis=1))\n",
    "bar = pd.DataFrame(litmix_avg)\n",
    "bar.columns = ['(4) Best estimate']\n",
    "order = ['motorway','trunk','primary','secondary','tertiary','other','track']\n",
    "bar = bar.groupby('road_type').sum()\n",
    "bar = bar.T\n",
    "bar = bar.reindex(columns=['motorway','trunk','primary','secondary','tertiary','other']) \n",
    "    # 'track' and 'none' are automatically removed from the data if they are not reindexed!\n",
    "bar = bar*10**(-6)\n",
    "\n",
    "bar = bar[bar.columns[::-1]] #reverse the order of the columns\n",
    "bar"
   ]
  },
  {
   "cell_type": "code",
   "execution_count": 29,
   "metadata": {},
   "outputs": [],
   "source": [
    "#Calculate percentages\n",
    "#bar2 = bar.copy()\n",
    "#bar2 = 100*bar2/bar2.sum(axis=1).values[0]"
   ]
  },
  {
   "cell_type": "code",
   "execution_count": 30,
   "metadata": {},
   "outputs": [
    {
     "data": {
      "text/plain": [
       "['#ffffb2', '#fed976', '#feb24c', '#fd8d3c', '#f03b20', '#bd0026']"
      ]
     },
     "execution_count": 30,
     "metadata": {},
     "output_type": "execute_result"
    }
   ],
   "source": [
    "#Colormap OSM #made from a screenshot of osm.org and then use a colorpicker\n",
    "OSM_colors = [\n",
    "    '#E892A2', #Motorway\n",
    "    '#F8B19B', #Trunk\n",
    "    '#FBD5A6', #Primary\n",
    "    '#F7FAC2', #Secondary\n",
    "    '#FEFEFE', #Tertiary\n",
    "    '#C4C4C4', #Made-up myself\n",
    "]\n",
    "\n",
    "brew_1 =  ['#ffffb2','#fed976','#feb24c','#fd8d3c','#f03b20','#bd0026']\n",
    "brew_1"
   ]
  },
  {
   "cell_type": "code",
   "execution_count": 31,
   "metadata": {},
   "outputs": [],
   "source": [
    "#(df_samples.T.sum(axis=1)*10**(-6)).to_frame().tail(n=50)"
   ]
  },
  {
   "cell_type": "markdown",
   "metadata": {},
   "source": [
    "## Plot the figure"
   ]
  },
  {
   "cell_type": "code",
   "execution_count": 64,
   "metadata": {},
   "outputs": [
    {
     "data": {
      "image/png": "[encoded data removed]",
      "text/plain": [
       "<Figure size 1152x504 with 4 Axes>"
      ]
     },
     "metadata": {
      "needs_background": "light"
     },
     "output_type": "display_data"
    }
   ],
   "source": [
    "fig, axes = plt.subplots(nrows=1, ncols=4, figsize=(16, 7), sharey=True)\n",
    "fs = 10 #fontsize\n",
    "\n",
    "\n",
    "### PANEL 1\n",
    "(df200*10**(-6)).plot.bar(stacked=True, ax=axes[0], color = pal2, width=0.3, linewidth=0.5,edgecolor='black')\n",
    "axes[0].set_title('(a) Grid-based + Huizinga \\n', fontsize=fs)\n",
    "axes[0].set_ylabel('Expected annual damage in million euro per year')\n",
    "\n",
    "handles_0, labels_0 = axes[0].get_legend_handles_labels() #inverse the order of the labels\n",
    "axes[0].legend(handles_0[::-1], labels_0[::-1])\n",
    "\n",
    "for tick in axes[0].get_xticklabels():\n",
    "    tick.set_rotation(0)\n",
    "\n",
    "### PANEL 2\n",
    "(df_HZ*10**(-6)).plot.bar(stacked=True, ax=axes[1],color=brew_1, width=0.1,linewidth=0.5,edgecolor='black')\n",
    "axes[1].set_title('(b) Object-based + Huizinga* \\n', fontsize=fs)\n",
    "axes[1].set_xticklabels(['(3) OSM + Huizinga*'])\n",
    "handles_2, labels_2 = axes[1].get_legend_handles_labels() #inverse the order of the labels\n",
    "axes[1].legend(handles_2[::-1], labels_2[::-1])\n",
    "\n",
    "for tick in axes[1].get_xticklabels(): #rotate the axis label\n",
    "    tick.set_rotation(0)\n",
    "\n",
    "### PANEL 3\n",
    "bar.plot.bar(stacked=True, ax=axes[2], color=brew_1, width=0.1,linewidth=0.5,edgecolor='black')\n",
    "axes[2].set_title('(c) Object-based + new curves \\n Deterministic estimate', fontsize=fs)\n",
    "\n",
    "handles_2, labels_2 = axes[2].get_legend_handles_labels() #inverse the order of the labels\n",
    "axes[2].legend(handles_2[::-1], labels_2[::-1])\n",
    "axes[2].set_xticklabels(['(4) OSM + new curves']) #overrule the name of the index\n",
    "\n",
    "\n",
    "for tick in axes[2].get_xticklabels():\n",
    "    tick.set_rotation(0)\n",
    "    \n",
    "### PANEL 4   \n",
    "sns.violinplot(df_samples.T.sum(axis=1)*10**(-6),orient='v',ax=axes[3],width=0.4,linewidth=1,cut=0,color='grey')    \n",
    "axes[3].set_title('(d) Object-based + new curves\\n Sampled uncertainty', fontsize=fs)\n",
    "axes[3].set_xticklabels(['Probability distribution'])\n",
    "axes[3].set_ylim(bottom=0)\n",
    "\n",
    "\n",
    "plt.savefig(r\"Paper_fig5_gitversion.png\", dpi=400, bbox_inches=\"tight\")"
   ]
  },
  {
   "cell_type": "markdown",
   "metadata": {},
   "source": [
    "## Alternative color scheme"
   ]
  },
  {
   "cell_type": "code",
   "execution_count": null,
   "metadata": {},
   "outputs": [],
   "source": [
    "fig, axes = plt.subplots(nrows=1, ncols=4, figsize=(16, 7), sharey=True)\n",
    "fs = 10 #fontsize\n",
    "\n",
    "\n",
    "### PANEL 1\n",
    "(df200*10**(-6)).plot.bar(stacked=True, ax=axes[0], color = pal2, width=0.3, linewidth=0.5,edgecolor='black')\n",
    "axes[0].set_title('(a) Grid-based + Huizinga \\n', fontsize=fs)\n",
    "axes[0].set_ylabel('Expected annual damage in million Euro per year')\n",
    "\n",
    "handles_0, labels_0 = axes[0].get_legend_handles_labels() #inverse the order of the labels\n",
    "axes[0].legend(handles_0[::-1], labels_0[::-1])\n",
    "\n",
    "for tick in axes[0].get_xticklabels():\n",
    "    tick.set_rotation(0)\n",
    "\n",
    "### PANEL 2\n",
    "(df_HZ*10**(-6)).plot.bar(stacked=True, ax=axes[1],color=brew_1, width=0.1,linewidth=0.5,edgecolor='black')\n",
    "axes[1].set_title('(b) Object-based + Huizinga* \\n', fontsize=fs)\n",
    "axes[1].set_xticklabels(['(3) OSM + Huizinga*'])\n",
    "handles_2, labels_2 = axes[1].get_legend_handles_labels() #inverse the order of the labels\n",
    "axes[1].legend(handles_2[::-1], labels_2[::-1])\n",
    "\n",
    "for tick in axes[1].get_xticklabels(): #rotate the axis label\n",
    "    tick.set_rotation(0)\n",
    "\n",
    "### PANEL 3\n",
    "bar.plot.bar(stacked=True, ax=axes[2], color=brew_1, width=0.1,linewidth=0.5,edgecolor='black')\n",
    "axes[2].set_title('(c) Object-based + new curves \\n Deterministic estimate', fontsize=fs)\n",
    "\n",
    "handles_2, labels_2 = axes[2].get_legend_handles_labels() #inverse the order of the labels\n",
    "axes[2].legend(handles_2[::-1], labels_2[::-1])\n",
    "axes[2].set_xticklabels(['(4) OSM + new curves']) #overrule the name of the index\n",
    "\n",
    "\n",
    "for tick in axes[2].get_xticklabels():\n",
    "    tick.set_rotation(0)\n",
    "    \n",
    "### PANEL 4   \n",
    "sns.violinplot(df_samples.T.sum(axis=1)*10**(-6),orient='v',ax=axes[3],width=0.4,linewidth=1,cut=0,color='grey')    \n",
    "axes[3].set_title('(d) Object-based + new curves\\n Sampled uncertainty', fontsize=fs)\n",
    "axes[3].set_xticklabels(['Probability distribution'])\n",
    "axes[3].set_ylim(bottom=0)\n",
    "\n",
    "\n",
    "#plt.savefig(r\"Paper_fig4_onlineversion.png\", dpi=400, bbox_inches=\"tight\")"
   ]
  },
  {
   "cell_type": "markdown",
   "metadata": {},
   "source": [
    "### Load data from LUISA"
   ]
  },
  {
   "cell_type": "code",
   "execution_count": 33,
   "metadata": {},
   "outputs": [
    {
     "name": "stderr",
     "output_type": "stream",
     "text": [
      "100%|█████████████████████████████████████████████████████████████████████████████| 1433/1433 [00:13<00:00, 103.83it/s]\n"
     ]
    }
   ],
   "source": [
    "### Load the NUTS-3 EADS from all the LUISA pickles; these were created with LUISA_EAD_multi.ipynb\n",
    "main_folder = \"D:\\\\Europe_trade_disruptions\"\n",
    "LUISA_pickles_path = os.path.join(main_folder,\"JRC_damages\\\\LUISA_pickles\")\n",
    "LUISA_infra_pkls = [x for x in os.listdir(LUISA_pickles_path) if x.endswith(\"infra.pkl\")]\n",
    "LUISA_infra_df = pd.DataFrame()\n",
    "for pkl in tqdm(LUISA_infra_pkls):\n",
    "    LUISA_infra_df = LUISA_infra_df.append(pd.read_pickle(os.path.join(LUISA_pickles_path,pkl)))\n",
    "df_inf = LUISA_infra_df.copy()\n",
    "df_inf.index.name = 'NUTS-3'\n",
    "\n",
    "#ADD THE OVERARCHING NUTS-NAMES\n",
    "df_inf['NUTS-2'] = df_inf.index.map(lambda x: NUTS_down(x))\n",
    "df_inf['NUTS-0'] = df_inf.index.map(lambda x: NUTS_down(NUTS_down(NUTS_down(x))))\n",
    "df_inf['sum'] = df_inf.sum(axis=1, numeric_only=True)\n"
   ]
  },
  {
   "cell_type": "code",
   "execution_count": 34,
   "metadata": {},
   "outputs": [
    {
     "data": {
      "text/html": [
       "<div>\n",
       "<style scoped>\n",
       "    .dataframe tbody tr th:only-of-type {\n",
       "        vertical-align: middle;\n",
       "    }\n",
       "\n",
       "    .dataframe tbody tr th {\n",
       "        vertical-align: top;\n",
       "    }\n",
       "\n",
       "    .dataframe thead th {\n",
       "        text-align: right;\n",
       "    }\n",
       "</style>\n",
       "<table border=\"1\" class=\"dataframe\">\n",
       "  <thead>\n",
       "    <tr style=\"text-align: right;\">\n",
       "      <th></th>\n",
       "      <th>1111</th>\n",
       "      <th>1121</th>\n",
       "      <th>1122</th>\n",
       "      <th>1123</th>\n",
       "      <th>1211</th>\n",
       "      <th>1212</th>\n",
       "      <th>1213</th>\n",
       "      <th>1221</th>\n",
       "      <th>1222</th>\n",
       "      <th>1230</th>\n",
       "      <th>1241</th>\n",
       "      <th>1242</th>\n",
       "      <th>1410</th>\n",
       "      <th>1422</th>\n",
       "      <th>2110</th>\n",
       "      <th>2310</th>\n",
       "      <th>2420</th>\n",
       "      <th>3110</th>\n",
       "      <th>3210</th>\n",
       "      <th>3240</th>\n",
       "      <th>3310</th>\n",
       "      <th>4100</th>\n",
       "      <th>5110</th>\n",
       "      <th>5120</th>\n",
       "      <th>5230</th>\n",
       "    </tr>\n",
       "    <tr>\n",
       "      <th>NUTS-0</th>\n",
       "      <th></th>\n",
       "      <th></th>\n",
       "      <th></th>\n",
       "      <th></th>\n",
       "      <th></th>\n",
       "      <th></th>\n",
       "      <th></th>\n",
       "      <th></th>\n",
       "      <th></th>\n",
       "      <th></th>\n",
       "      <th></th>\n",
       "      <th></th>\n",
       "      <th></th>\n",
       "      <th></th>\n",
       "      <th></th>\n",
       "      <th></th>\n",
       "      <th></th>\n",
       "      <th></th>\n",
       "      <th></th>\n",
       "      <th></th>\n",
       "      <th></th>\n",
       "      <th></th>\n",
       "      <th></th>\n",
       "      <th></th>\n",
       "      <th></th>\n",
       "    </tr>\n",
       "  </thead>\n",
       "  <tbody>\n",
       "    <tr>\n",
       "      <th>AL</th>\n",
       "      <td>2956.700000</td>\n",
       "      <td>1.157493e+04</td>\n",
       "      <td>35412.360000</td>\n",
       "      <td>18956.310000</td>\n",
       "      <td>2.148347e+04</td>\n",
       "      <td>187.420000</td>\n",
       "      <td>0.000000</td>\n",
       "      <td>1.792274e+05</td>\n",
       "      <td>0.000000</td>\n",
       "      <td>3002.110000</td>\n",
       "      <td>54461.96</td>\n",
       "      <td>0.00</td>\n",
       "      <td>0.000000</td>\n",
       "      <td>0.000000</td>\n",
       "      <td>0.0</td>\n",
       "      <td>0.0</td>\n",
       "      <td>0.0</td>\n",
       "      <td>0.0</td>\n",
       "      <td>0.0</td>\n",
       "      <td>0.0</td>\n",
       "      <td>0.0</td>\n",
       "      <td>0.0</td>\n",
       "      <td>0.0</td>\n",
       "      <td>0.0</td>\n",
       "      <td>0.0</td>\n",
       "    </tr>\n",
       "    <tr>\n",
       "      <th>AT</th>\n",
       "      <td>217185.118070</td>\n",
       "      <td>9.395351e+05</td>\n",
       "      <td>887348.493309</td>\n",
       "      <td>210877.662085</td>\n",
       "      <td>1.260108e+06</td>\n",
       "      <td>436739.222687</td>\n",
       "      <td>109354.957604</td>\n",
       "      <td>7.086000e+06</td>\n",
       "      <td>243.346203</td>\n",
       "      <td>551643.732922</td>\n",
       "      <td>443262.49</td>\n",
       "      <td>2187.00</td>\n",
       "      <td>159388.850061</td>\n",
       "      <td>85663.075177</td>\n",
       "      <td>0.0</td>\n",
       "      <td>0.0</td>\n",
       "      <td>0.0</td>\n",
       "      <td>0.0</td>\n",
       "      <td>0.0</td>\n",
       "      <td>0.0</td>\n",
       "      <td>0.0</td>\n",
       "      <td>0.0</td>\n",
       "      <td>0.0</td>\n",
       "      <td>0.0</td>\n",
       "      <td>0.0</td>\n",
       "    </tr>\n",
       "    <tr>\n",
       "      <th>BE</th>\n",
       "      <td>60982.796302</td>\n",
       "      <td>3.511544e+05</td>\n",
       "      <td>398394.703702</td>\n",
       "      <td>135177.084135</td>\n",
       "      <td>1.447278e+06</td>\n",
       "      <td>174489.310000</td>\n",
       "      <td>98179.904818</td>\n",
       "      <td>1.871703e+06</td>\n",
       "      <td>0.000000</td>\n",
       "      <td>469632.619626</td>\n",
       "      <td>27960.69</td>\n",
       "      <td>0.00</td>\n",
       "      <td>41610.740000</td>\n",
       "      <td>40555.850000</td>\n",
       "      <td>0.0</td>\n",
       "      <td>0.0</td>\n",
       "      <td>0.0</td>\n",
       "      <td>0.0</td>\n",
       "      <td>0.0</td>\n",
       "      <td>0.0</td>\n",
       "      <td>0.0</td>\n",
       "      <td>0.0</td>\n",
       "      <td>0.0</td>\n",
       "      <td>0.0</td>\n",
       "      <td>0.0</td>\n",
       "    </tr>\n",
       "    <tr>\n",
       "      <th>BG</th>\n",
       "      <td>5158.030000</td>\n",
       "      <td>6.069548e+04</td>\n",
       "      <td>81046.440000</td>\n",
       "      <td>39748.810000</td>\n",
       "      <td>3.458357e+05</td>\n",
       "      <td>4948.520000</td>\n",
       "      <td>10782.790000</td>\n",
       "      <td>8.381795e+05</td>\n",
       "      <td>0.000000</td>\n",
       "      <td>24706.140000</td>\n",
       "      <td>37842.71</td>\n",
       "      <td>146.67</td>\n",
       "      <td>12553.930000</td>\n",
       "      <td>5009.350000</td>\n",
       "      <td>0.0</td>\n",
       "      <td>0.0</td>\n",
       "      <td>0.0</td>\n",
       "      <td>0.0</td>\n",
       "      <td>0.0</td>\n",
       "      <td>0.0</td>\n",
       "      <td>0.0</td>\n",
       "      <td>0.0</td>\n",
       "      <td>0.0</td>\n",
       "      <td>0.0</td>\n",
       "      <td>0.0</td>\n",
       "    </tr>\n",
       "    <tr>\n",
       "      <th>CH</th>\n",
       "      <td>216548.320000</td>\n",
       "      <td>1.064747e+06</td>\n",
       "      <td>992132.700000</td>\n",
       "      <td>343352.270000</td>\n",
       "      <td>1.950108e+06</td>\n",
       "      <td>515248.460000</td>\n",
       "      <td>107504.290000</td>\n",
       "      <td>6.516137e+06</td>\n",
       "      <td>4093.600000</td>\n",
       "      <td>3790.810000</td>\n",
       "      <td>1965458.22</td>\n",
       "      <td>0.00</td>\n",
       "      <td>40798.750000</td>\n",
       "      <td>136134.600000</td>\n",
       "      <td>0.0</td>\n",
       "      <td>0.0</td>\n",
       "      <td>0.0</td>\n",
       "      <td>0.0</td>\n",
       "      <td>0.0</td>\n",
       "      <td>0.0</td>\n",
       "      <td>0.0</td>\n",
       "      <td>0.0</td>\n",
       "      <td>0.0</td>\n",
       "      <td>0.0</td>\n",
       "      <td>0.0</td>\n",
       "    </tr>\n",
       "  </tbody>\n",
       "</table>\n",
       "</div>"
      ],
      "text/plain": [
       "                 1111          1121           1122           1123  \\\n",
       "NUTS-0                                                              \n",
       "AL        2956.700000  1.157493e+04   35412.360000   18956.310000   \n",
       "AT      217185.118070  9.395351e+05  887348.493309  210877.662085   \n",
       "BE       60982.796302  3.511544e+05  398394.703702  135177.084135   \n",
       "BG        5158.030000  6.069548e+04   81046.440000   39748.810000   \n",
       "CH      216548.320000  1.064747e+06  992132.700000  343352.270000   \n",
       "\n",
       "                1211           1212           1213          1221         1222  \\\n",
       "NUTS-0                                                                          \n",
       "AL      2.148347e+04     187.420000       0.000000  1.792274e+05     0.000000   \n",
       "AT      1.260108e+06  436739.222687  109354.957604  7.086000e+06   243.346203   \n",
       "BE      1.447278e+06  174489.310000   98179.904818  1.871703e+06     0.000000   \n",
       "BG      3.458357e+05    4948.520000   10782.790000  8.381795e+05     0.000000   \n",
       "CH      1.950108e+06  515248.460000  107504.290000  6.516137e+06  4093.600000   \n",
       "\n",
       "                 1230        1241     1242           1410           1422  \\\n",
       "NUTS-0                                                                     \n",
       "AL        3002.110000    54461.96     0.00       0.000000       0.000000   \n",
       "AT      551643.732922   443262.49  2187.00  159388.850061   85663.075177   \n",
       "BE      469632.619626    27960.69     0.00   41610.740000   40555.850000   \n",
       "BG       24706.140000    37842.71   146.67   12553.930000    5009.350000   \n",
       "CH        3790.810000  1965458.22     0.00   40798.750000  136134.600000   \n",
       "\n",
       "        2110  2310  2420  3110  3210  3240  3310  4100  5110  5120  5230  \n",
       "NUTS-0                                                                    \n",
       "AL       0.0   0.0   0.0   0.0   0.0   0.0   0.0   0.0   0.0   0.0   0.0  \n",
       "AT       0.0   0.0   0.0   0.0   0.0   0.0   0.0   0.0   0.0   0.0   0.0  \n",
       "BE       0.0   0.0   0.0   0.0   0.0   0.0   0.0   0.0   0.0   0.0   0.0  \n",
       "BG       0.0   0.0   0.0   0.0   0.0   0.0   0.0   0.0   0.0   0.0   0.0  \n",
       "CH       0.0   0.0   0.0   0.0   0.0   0.0   0.0   0.0   0.0   0.0   0.0  "
      ]
     },
     "execution_count": 34,
     "metadata": {},
     "output_type": "execute_result"
    }
   ],
   "source": [
    "df_inf_N0 = df_inf.groupby('NUTS-0').sum().drop(['sum'],axis=1)\n",
    "df_inf_N0 = df_inf_N0.loc[:, (df_inf_N0 != 0).any(axis=0)] #drop the empty columns before plotting\n",
    "df_inf_N0.head()"
   ]
  },
  {
   "cell_type": "markdown",
   "metadata": {},
   "source": [
    "### Load the CORINE results"
   ]
  },
  {
   "cell_type": "code",
   "execution_count": 36,
   "metadata": {},
   "outputs": [
    {
     "name": "stderr",
     "output_type": "stream",
     "text": [
      "100%|█████████████████████████████████████████████████████████████████████████████| 1420/1420 [00:10<00:00, 135.81it/s]\n"
     ]
    },
    {
     "data": {
      "text/html": [
       "<div>\n",
       "<style scoped>\n",
       "    .dataframe tbody tr th:only-of-type {\n",
       "        vertical-align: middle;\n",
       "    }\n",
       "\n",
       "    .dataframe tbody tr th {\n",
       "        vertical-align: top;\n",
       "    }\n",
       "\n",
       "    .dataframe thead th {\n",
       "        text-align: right;\n",
       "    }\n",
       "</style>\n",
       "<table border=\"1\" class=\"dataframe\">\n",
       "  <thead>\n",
       "    <tr style=\"text-align: right;\">\n",
       "      <th></th>\n",
       "      <th>1</th>\n",
       "      <th>2</th>\n",
       "      <th>3</th>\n",
       "      <th>4</th>\n",
       "      <th>5</th>\n",
       "      <th>6</th>\n",
       "      <th>10</th>\n",
       "      <th>12</th>\n",
       "      <th>18</th>\n",
       "      <th>20</th>\n",
       "      <th>21</th>\n",
       "      <th>23</th>\n",
       "      <th>24</th>\n",
       "      <th>26</th>\n",
       "      <th>28</th>\n",
       "      <th>29</th>\n",
       "      <th>30</th>\n",
       "      <th>32</th>\n",
       "      <th>35</th>\n",
       "      <th>37</th>\n",
       "      <th>38</th>\n",
       "      <th>40</th>\n",
       "      <th>42</th>\n",
       "      <th>43</th>\n",
       "      <th>44</th>\n",
       "    </tr>\n",
       "    <tr>\n",
       "      <th>NUTS-0</th>\n",
       "      <th></th>\n",
       "      <th></th>\n",
       "      <th></th>\n",
       "      <th></th>\n",
       "      <th></th>\n",
       "      <th></th>\n",
       "      <th></th>\n",
       "      <th></th>\n",
       "      <th></th>\n",
       "      <th></th>\n",
       "      <th></th>\n",
       "      <th></th>\n",
       "      <th></th>\n",
       "      <th></th>\n",
       "      <th></th>\n",
       "      <th></th>\n",
       "      <th></th>\n",
       "      <th></th>\n",
       "      <th></th>\n",
       "      <th></th>\n",
       "      <th></th>\n",
       "      <th></th>\n",
       "      <th></th>\n",
       "      <th></th>\n",
       "      <th></th>\n",
       "    </tr>\n",
       "  </thead>\n",
       "  <tbody>\n",
       "    <tr>\n",
       "      <th>AL</th>\n",
       "      <td>992.980000</td>\n",
       "      <td>1.216150e+05</td>\n",
       "      <td>1.954853e+04</td>\n",
       "      <td>311.040000</td>\n",
       "      <td>3002.110000</td>\n",
       "      <td>52727.76</td>\n",
       "      <td>0.000000</td>\n",
       "      <td>55728.56</td>\n",
       "      <td>648.76</td>\n",
       "      <td>39185.28</td>\n",
       "      <td>2097.22</td>\n",
       "      <td>1264.81</td>\n",
       "      <td>2821.66</td>\n",
       "      <td>75.76</td>\n",
       "      <td>531.2</td>\n",
       "      <td>16761.26</td>\n",
       "      <td>5271.09</td>\n",
       "      <td>1525.05</td>\n",
       "      <td>2101.45</td>\n",
       "      <td>3215.85</td>\n",
       "      <td>1718.68</td>\n",
       "      <td>7.353571e+05</td>\n",
       "      <td>7053.28</td>\n",
       "      <td>800.790000</td>\n",
       "      <td>679.42</td>\n",
       "    </tr>\n",
       "    <tr>\n",
       "      <th>AT</th>\n",
       "      <td>146347.828166</td>\n",
       "      <td>4.860787e+06</td>\n",
       "      <td>1.634625e+06</td>\n",
       "      <td>457939.323172</td>\n",
       "      <td>73408.667898</td>\n",
       "      <td>391538.90</td>\n",
       "      <td>46106.725417</td>\n",
       "      <td>0.00</td>\n",
       "      <td>0.00</td>\n",
       "      <td>0.00</td>\n",
       "      <td>0.00</td>\n",
       "      <td>0.00</td>\n",
       "      <td>0.00</td>\n",
       "      <td>0.00</td>\n",
       "      <td>0.0</td>\n",
       "      <td>0.00</td>\n",
       "      <td>0.00</td>\n",
       "      <td>0.00</td>\n",
       "      <td>0.00</td>\n",
       "      <td>0.00</td>\n",
       "      <td>0.00</td>\n",
       "      <td>9.247536e+06</td>\n",
       "      <td>0.00</td>\n",
       "      <td>0.000000</td>\n",
       "      <td>0.00</td>\n",
       "    </tr>\n",
       "    <tr>\n",
       "      <th>BE</th>\n",
       "      <td>75781.350000</td>\n",
       "      <td>2.032164e+06</td>\n",
       "      <td>1.388871e+06</td>\n",
       "      <td>532789.010000</td>\n",
       "      <td>289440.539897</td>\n",
       "      <td>8296.88</td>\n",
       "      <td>1772.770000</td>\n",
       "      <td>0.00</td>\n",
       "      <td>0.00</td>\n",
       "      <td>0.00</td>\n",
       "      <td>0.00</td>\n",
       "      <td>0.00</td>\n",
       "      <td>0.00</td>\n",
       "      <td>0.00</td>\n",
       "      <td>0.0</td>\n",
       "      <td>0.00</td>\n",
       "      <td>0.00</td>\n",
       "      <td>0.00</td>\n",
       "      <td>0.00</td>\n",
       "      <td>0.00</td>\n",
       "      <td>0.00</td>\n",
       "      <td>8.166709e+05</td>\n",
       "      <td>0.00</td>\n",
       "      <td>940371.784686</td>\n",
       "      <td>0.00</td>\n",
       "    </tr>\n",
       "    <tr>\n",
       "      <th>BG</th>\n",
       "      <td>0.000000</td>\n",
       "      <td>3.858209e+05</td>\n",
       "      <td>3.520332e+05</td>\n",
       "      <td>101394.730000</td>\n",
       "      <td>46490.010000</td>\n",
       "      <td>23447.94</td>\n",
       "      <td>15360.180000</td>\n",
       "      <td>0.00</td>\n",
       "      <td>0.00</td>\n",
       "      <td>0.00</td>\n",
       "      <td>0.00</td>\n",
       "      <td>0.00</td>\n",
       "      <td>0.00</td>\n",
       "      <td>0.00</td>\n",
       "      <td>0.0</td>\n",
       "      <td>0.00</td>\n",
       "      <td>0.00</td>\n",
       "      <td>0.00</td>\n",
       "      <td>0.00</td>\n",
       "      <td>0.00</td>\n",
       "      <td>0.00</td>\n",
       "      <td>5.559103e+06</td>\n",
       "      <td>0.00</td>\n",
       "      <td>0.000000</td>\n",
       "      <td>0.00</td>\n",
       "    </tr>\n",
       "    <tr>\n",
       "      <th>CH</th>\n",
       "      <td>112888.250000</td>\n",
       "      <td>4.398947e+06</td>\n",
       "      <td>2.192243e+06</td>\n",
       "      <td>501571.270000</td>\n",
       "      <td>138293.110000</td>\n",
       "      <td>1363745.28</td>\n",
       "      <td>33434.920000</td>\n",
       "      <td>0.00</td>\n",
       "      <td>0.00</td>\n",
       "      <td>0.00</td>\n",
       "      <td>0.00</td>\n",
       "      <td>0.00</td>\n",
       "      <td>0.00</td>\n",
       "      <td>0.00</td>\n",
       "      <td>0.0</td>\n",
       "      <td>0.00</td>\n",
       "      <td>0.00</td>\n",
       "      <td>0.00</td>\n",
       "      <td>0.00</td>\n",
       "      <td>0.00</td>\n",
       "      <td>0.00</td>\n",
       "      <td>4.365148e+06</td>\n",
       "      <td>0.00</td>\n",
       "      <td>0.000000</td>\n",
       "      <td>0.00</td>\n",
       "    </tr>\n",
       "  </tbody>\n",
       "</table>\n",
       "</div>"
      ],
      "text/plain": [
       "                   1             2             3              4   \\\n",
       "NUTS-0                                                             \n",
       "AL         992.980000  1.216150e+05  1.954853e+04     311.040000   \n",
       "AT      146347.828166  4.860787e+06  1.634625e+06  457939.323172   \n",
       "BE       75781.350000  2.032164e+06  1.388871e+06  532789.010000   \n",
       "BG           0.000000  3.858209e+05  3.520332e+05  101394.730000   \n",
       "CH      112888.250000  4.398947e+06  2.192243e+06  501571.270000   \n",
       "\n",
       "                   5           6             10        12      18        20  \\\n",
       "NUTS-0                                                                        \n",
       "AL        3002.110000    52727.76      0.000000  55728.56  648.76  39185.28   \n",
       "AT       73408.667898   391538.90  46106.725417      0.00    0.00      0.00   \n",
       "BE      289440.539897     8296.88   1772.770000      0.00    0.00      0.00   \n",
       "BG       46490.010000    23447.94  15360.180000      0.00    0.00      0.00   \n",
       "CH      138293.110000  1363745.28  33434.920000      0.00    0.00      0.00   \n",
       "\n",
       "             21       23       24     26     28        29       30       32  \\\n",
       "NUTS-0                                                                        \n",
       "AL      2097.22  1264.81  2821.66  75.76  531.2  16761.26  5271.09  1525.05   \n",
       "AT         0.00     0.00     0.00   0.00    0.0      0.00     0.00     0.00   \n",
       "BE         0.00     0.00     0.00   0.00    0.0      0.00     0.00     0.00   \n",
       "BG         0.00     0.00     0.00   0.00    0.0      0.00     0.00     0.00   \n",
       "CH         0.00     0.00     0.00   0.00    0.0      0.00     0.00     0.00   \n",
       "\n",
       "             35       37       38            40       42             43  \\\n",
       "NUTS-0                                                                    \n",
       "AL      2101.45  3215.85  1718.68  7.353571e+05  7053.28     800.790000   \n",
       "AT         0.00     0.00     0.00  9.247536e+06     0.00       0.000000   \n",
       "BE         0.00     0.00     0.00  8.166709e+05     0.00  940371.784686   \n",
       "BG         0.00     0.00     0.00  5.559103e+06     0.00       0.000000   \n",
       "CH         0.00     0.00     0.00  4.365148e+06     0.00       0.000000   \n",
       "\n",
       "            44  \n",
       "NUTS-0          \n",
       "AL      679.42  \n",
       "AT        0.00  \n",
       "BE        0.00  \n",
       "BG        0.00  \n",
       "CH        0.00  "
      ]
     },
     "execution_count": 36,
     "metadata": {},
     "output_type": "execute_result"
    }
   ],
   "source": [
    "CORINE_pickles_path = \"../../OSdaMage_10_old/corine_temp\"\n",
    "CORINE_infra_pkls = [x for x in os.listdir(CORINE_pickles_path) if x.endswith(\"infra.pkl\")]\n",
    "CORINE_infra_df = pd.DataFrame()\n",
    "for pkl in tqdm(CORINE_infra_pkls):\n",
    "    CORINE_infra_df = CORINE_infra_df.append(pd.read_pickle(os.path.join(CORINE_pickles_path,pkl)))\n",
    "df_inf2 = CORINE_infra_df.copy()\n",
    "df_inf2.index.name = 'NUTS-3'\n",
    "\n",
    "#ADD THE OVERARCHING NUTS-NAMES\n",
    "df_inf2['NUTS-2'] = df_inf2.index.map(lambda x: NUTS_down(x))\n",
    "df_inf2['NUTS-0'] = df_inf2.index.map(lambda x: NUTS_down(NUTS_down(NUTS_down(x))))\n",
    "df_inf2.drop(labels='RO225',axis='index',inplace=True) #something weird happens in this region\n",
    "df_inf2['sum'] = df_inf2.sum(axis=1, numeric_only=True)\n",
    "df_inf2_N0 = df_inf2.groupby('NUTS-0').sum().drop(['sum'],axis=1)\n",
    "df_inf2_N0 = df_inf2_N0.loc[:, (df_inf2_N0 != 0).any(axis=0)] #drop the empty columns before plotting\n",
    "df_inf2_N0.head()"
   ]
  },
  {
   "cell_type": "code",
   "execution_count": 37,
   "metadata": {},
   "outputs": [],
   "source": [
    "#ADD THE LABELING FOR LUISA\n",
    "\n",
    "from collections import OrderedDict\n",
    "\n",
    "sum_dict = OrderedDict({\n",
    "            1221:[1221],\n",
    "            11:[1111,1121,1122,1123],\n",
    "            121:[1211,1212,1213]\n",
    "            })\n",
    "\n",
    "#select columns that have not been grouped \n",
    "used_cols = []\n",
    "for i in sum_dict:\n",
    "    used_cols.extend(sum_dict[i])\n",
    "sum_dict[0] = [j for j in list(df_inf_N0.columns) if j not in used_cols]\n",
    "\n",
    "#sum_labels = OrderedDict({\n",
    "#            1221: 'Road and rail networks and \\n associated land (LUISA 1221)',\n",
    "#            11: 'Urban fabric (LUISA 11XX)',\n",
    "#            121: 'Industrial or commercial \\n units (LUISA 121X)',\n",
    "#            0: 'Other'})\n",
    "\n",
    "sum_labels = OrderedDict({\n",
    "            1221: 'Road and rail \\n networks and \\n associated land',\n",
    "            11: 'Urban fabric',\n",
    "            121: 'Industrial or \\n commercial \\n units',\n",
    "            5: 'Water',\n",
    "            0: 'Other'})\n",
    "\n",
    "colours = OrderedDict({\n",
    "            1221: '#FFA500',\n",
    "            11: '#DC143C',\n",
    "            121: '#EBD6FD',\n",
    "            0: '#000000'})\n",
    "pal = list(colours.values()) #create palette from colours\n",
    "\n",
    "df_inf_N0_agg = pd.DataFrame()\n",
    "for k, v in sum_dict.items():\n",
    "    df_inf_N0_agg[k] = df_inf_N0[v].sum(axis=1)"
   ]
  },
  {
   "cell_type": "code",
   "execution_count": 38,
   "metadata": {},
   "outputs": [],
   "source": [
    "#ADD THE LABELING FOR CORINE\n",
    "#based on: D:\\Europe_trade_disruptions\\JRC_landuse\\Corine_2012_g100_clc12_V18_5a\\Legend\\clc_legend.xls\n",
    "\n",
    "sum_dict2 = OrderedDict({\n",
    "            1221:[4], #comp code 4 corresponds to CLC3 122 ##was 122!\n",
    "            11:[1,2], # 111,112\n",
    "            121:[3], # 121\n",
    "            5:[40,43,44] #511, 522, 523 \n",
    "            })\n",
    "\n",
    "used_cols2 = []\n",
    "for i in sum_dict2:\n",
    "    used_cols2.extend(sum_dict2[i])\n",
    "sum_dict2[0] = [j for j in list(df_inf2_N0.columns) if j not in used_cols2]\n",
    "\n",
    "colours2 = OrderedDict({\n",
    "            1221: '#FFA500',\n",
    "            11: '#DC143C',\n",
    "            121: '#EBD6FD',\n",
    "            5: '#2264aa', \n",
    "            0: '#000000'})\n",
    "pal2 = list(colours2.values()) #create palette from colours\n",
    "\n",
    "df_inf2_N0_agg = pd.DataFrame()\n",
    "for k, v in sum_dict2.items():\n",
    "    df_inf2_N0_agg[k] = df_inf2_N0[v].sum(axis=1)"
   ]
  },
  {
   "cell_type": "code",
   "execution_count": null,
   "metadata": {},
   "outputs": [],
   "source": []
  }
 ],
 "metadata": {
  "kernelspec": {
   "display_name": "Python 3",
   "language": "python",
   "name": "python3"
  },
  "language_info": {
   "codemirror_mode": {
    "name": "ipython",
    "version": 3
   },
   "file_extension": ".py",
   "mimetype": "text/x-python",
   "name": "python",
   "nbconvert_exporter": "python",
   "pygments_lexer": "ipython3",
   "version": "3.8.1"
  }
 },
 "nbformat": 4,
 "nbformat_minor": 4
}
