{
 "cells": [
  {
   "cell_type": "markdown",
   "metadata": {},
   "source": [
    "# OSdaMage preprocessing step\n",
    "In this step, the OpenStreetMap planet file (europe.osm.pbf ~20 Gb) is cut into small regions according to the European NUTS-3 classification, in a few steps.\n",
    "1. For each NUTS-3 region in the NUTS-3 shapefile, a .poly file is made\n",
    "2. For each NUTS-3 region, an extract is made containing all OSM data of that region (with the help of the OSMconvert tool)"
   ]
  },
  {
   "cell_type": "code",
   "execution_count": 1,
   "metadata": {},
   "outputs": [],
   "source": [
    "import geopandas as gpd\n",
    "import os as os\n",
    "import sys\n",
    "import time as time\n",
    "\n",
    "from pathos.multiprocessing import Pool \n",
    "\n",
    "sys.path.append(\"..\") #import folder which is one level higher\n",
    "\n",
    "from preproc_functions import *\n",
    "from utils_functions import load_config\n",
    "from postproc_functions import NUTS_0_list,NUTS_up,NUTS_3_remote\n",
    "\n",
    "#this is where the output of the postprocessing is to be stored, i.e. a seperate .osm.pbf per region\n",
    "#todo: missing the path to the Europe dump\n",
    "pbf_files_dir = load_config()['paths']['osm_data'] \n",
    "input_path = load_config()['paths']['input_data'] #general input data\n",
    "NUTS3_shape = load_config()['filenames']['NUTS3-shape'] # The shapefile with the NUTS-3 regions in Europe\n",
    "planet_path = load_config()['paths']['osm_planetpath'] #The path the the Europe planet dump\n",
    "poly_files_dir = load_config()['paths']['osm_polyfiles'] #Where the results (outcome region chuncks) of this step are to be saved\n",
    "osm_convert_tool = os.path.join(input_path,\"osmconvert64.exe\") #Path to the executable"
   ]
  },
  {
   "cell_type": "markdown",
   "metadata": {},
   "source": [
    "# 1. Construct the .poly files from the NUTS-3 shapefile"
   ]
  },
  {
   "cell_type": "code",
   "execution_count": 3,
   "metadata": {},
   "outputs": [],
   "source": [
    "#Remove remote overseas territories\n",
    "filter_out =  NUTS_3_remote(Overseas=True,Creta=True,Spain=True)"
   ]
  },
  {
   "cell_type": "markdown",
   "metadata": {},
   "source": [
    "### Make the poly files for these regions"
   ]
  },
  {
   "cell_type": "code",
   "execution_count": 5,
   "metadata": {},
   "outputs": [],
   "source": [
    "poly_files_europe(poly_files_dir,os.path.join(input_path,NUTS3_shape),filter_out)"
   ]
  },
  {
   "cell_type": "markdown",
   "metadata": {},
   "source": [
    "# 2. Iterate over the .poly files and create OSM chunks per region"
   ]
  },
  {
   "cell_type": "code",
   "execution_count": 3,
   "metadata": {},
   "outputs": [],
   "source": [
    "#RUN FOR MULTIPLE FILES\n",
    "\n",
    "#assuming that all NUTS-3 regions DO have a corresponding poly file\n",
    "regions = [(x.split('.')[0]) for x in os.listdir(poly_files_dir)] #list of region names derived from the .poly files in the folder\n",
    "list_of_dirs = []\n",
    "\n",
    "for region in regions:\n",
    "    area_poly = os.path.join(poly_files_dir,\"{}.poly\".format(region)) #path to the input poly file\n",
    "    area_pbf = os.path.join(pbf_files_dir,\"{}.osm.pbf\".format(region)) #path to the output .osm.pbf file\n",
    "    #Next line is necessary to enable multiprocessing because the Pool function can handle only 1 argument\n",
    "    list_of_dirs.append([osm_convert_tool,planet_path,area_poly,area_pbf]) #Each list item contain another list which for the arguments for the clip function"
   ]
  },
  {
   "cell_type": "code",
   "execution_count": null,
   "metadata": {},
   "outputs": [],
   "source": [
    "#EXPLANATION OF THE SYNTAX\n",
    "#OSM.clip_osm(osm_convert_path,planet_path,area_poly,area_pbf) #this would be the simple way to call the function, not using a list\n",
    "#OSM.clip_osm_multi(dirs) #this would call the multi_function using one list containing all the same arguments\n",
    "\n",
    "start = time.time()\n",
    "\n",
    "with Pool(6) as pool: \n",
    "    pool.map(clip_osm_multi,list_of_dirs[0:10],chunksize=1) \n",
    "end = time.time()\n",
    "\n",
    "print(\"The script runned for: {} seconds\".format(end-start))"
   ]
  },
  {
   "cell_type": "markdown",
   "metadata": {},
   "source": [
    "<b> Known issue: this step can be very slow, especially for complex geometries. Below some suggestions for speeding it up can be found. This step will be improved in the GMTRA model, keep an eye on: https://github.com/ElcoK/gmtra </b>"
   ]
  },
  {
   "cell_type": "markdown",
   "metadata": {},
   "source": [
    "# Suggestions for error handling:\n",
    "\n",
    "\n",
    "\n",
    "### Optionally, do some extra preprocessing for problematic regions (for example with much very small islands in front of the coast)\n",
    "\n",
    "Below some code snippets to change too complicated shapefiles (code not recently checked); can be done with GIS as well. "
   ]
  },
  {
   "cell_type": "code",
   "execution_count": null,
   "metadata": {},
   "outputs": [],
   "source": [
    "#RUN FOR ONE FILE\n",
    "region = \"NO053\"\n",
    "region_poly = os.path.join(poly_files_dir,\"{}.poly\".format(region))\n",
    "region_pbf = os.path.join(pbf_files_dir,\"{}.osm.pbf\".format(region))\n",
    "clip_osm(osm_convert_tool,planet_path,region_poly,region_pbf)"
   ]
  },
  {
   "cell_type": "code",
   "execution_count": null,
   "metadata": {},
   "outputs": [],
   "source": [
    "#Simplify\n",
    "\n",
    "region = \"NO071\"\n",
    "\n",
    "region_poly = os.path.join(poly_files_dir,\"{}.poly\".format(region))\n",
    "region_poly_simple =  os.path.join(poly_files_dir,\"{}_simple.poly\".format(region))\n",
    "\n",
    "polygon = \n",
    "remove_tiny_shapes(region_poly)"
   ]
  },
  {
   "cell_type": "code",
   "execution_count": null,
   "metadata": {},
   "outputs": [],
   "source": [
    "problems_shp = os.path.join(input_path,\"N3_problems.shp\")\n",
    "p = gpd.read_file(problems_shp)\n",
    "q = p.copy()\n",
    "q.at[0,'geometry'] = remove_tiny_shapes2(q.iloc[0])\n",
    "q.at[1,'geometry'] = remove_tiny_shapes2(q.iloc[1])\n",
    "q.to_file(os.path.join(input_path,\"N3_problems_simplified.shp\"))"
   ]
  },
  {
   "cell_type": "code",
   "execution_count": 9,
   "metadata": {},
   "outputs": [],
   "source": [
    "def remove_tiny_shapes2(x):\n",
    "    \"\"\"This function will remove the small shapes of multipolygons. Will reduce the size of the file.\n",
    "    \n",
    "    Arguments:\n",
    "        x {feature} -- a geometry feature (Polygon) to simplify. Countries which are very \n",
    "        large will see larger (unhabitated) islands being removed.\n",
    "    \n",
    "    Keyword Arguments:\n",
    "        regionalized {bool} -- set to True to allow for different threshold settings (default: {False})\n",
    "    \"\"\"\n",
    "    threshold = 5000**2 #Threshold is 5000*5000 m\n",
    "\n",
    "    # save remaining polygons as new multipolygon for the specific country\n",
    "    new_geom = []\n",
    "    for y in x.geometry:\n",
    "        if y.area > threshold:\n",
    "            new_geom.append(y)\n",
    "\n",
    "    return MultiPolygon(new_geom)"
   ]
  }
 ],
 "metadata": {
  "kernelspec": {
   "display_name": "Python 3",
   "language": "python",
   "name": "python3"
  },
  "language_info": {
   "codemirror_mode": {
    "name": "ipython",
    "version": 3
   },
   "file_extension": ".py",
   "mimetype": "text/x-python",
   "name": "python",
   "nbconvert_exporter": "python",
   "pygments_lexer": "ipython3",
   "version": "3.8.1"
  }
 },
 "nbformat": 4,
 "nbformat_minor": 4
}
