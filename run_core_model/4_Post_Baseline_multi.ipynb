{
 "cells": [
  {
   "cell_type": "markdown",
   "metadata": {},
   "source": [
    "# Calculate Expected Annual Damage for all road segments in a NUTS-3 region.\n",
    "This script calls the EAD_multi script, which carries out the computation of the Expected Annual Damage using (1) the output of the main model and (2) the flood protection data. Before running this notebook, make sure to have run the main model as well as the postprocessing AoI_FP step."
   ]
  },
  {
   "cell_type": "code",
   "execution_count": 3,
   "metadata": {},
   "outputs": [
    {
     "name": "stdout",
     "output_type": "stream",
     "text": [
      "The script runned for 1.6271781921386719 seconds.\n"
     ]
    }
   ],
   "source": [
    "import sys\n",
    "sys.path.append(\"..\") #import folder which is one level higher\n",
    "\n",
    "import os as os\n",
    "import pandas as pd\n",
    "from pathos.multiprocessing import Pool\n",
    "import time as time\n",
    "from tqdm import tqdm\n",
    "import warnings\n",
    "warnings.filterwarnings('ignore')\n",
    "\n",
    "from postproc_functions import EAD_multi, NUTS_3_EU28_cleaned, NUTS_up\n",
    "from utils_functions import load_config"
   ]
  },
  {
   "cell_type": "markdown",
   "metadata": {},
   "source": [
    "### Run for one NUTS-3 region"
   ]
  },
  {
   "cell_type": "code",
   "execution_count": null,
   "metadata": {},
   "outputs": [],
   "source": [
    "EAD_multi('DE224')"
   ]
  },
  {
   "cell_type": "markdown",
   "metadata": {},
   "source": [
    "### Select regions to run the model for"
   ]
  },
  {
   "cell_type": "code",
   "execution_count": null,
   "metadata": {},
   "outputs": [],
   "source": [
    "#RUN FOR THE EU-28\n",
    "#regions = NUTS_3_EU28_cleaned()\n",
    "\n",
    "#RUN FOR ONE COUNTRY\n",
    "#regions = NUTS_up('CH',True)\n",
    "\n",
    "#RUN FOR MULTIPLE COUNTRIES\n",
    "#super_regions = ['LI','NO']\n",
    "#regions = []\n",
    "#for super_region in super_regions:\n",
    "#    regions.extend(NUTS_up(super_region,True))"
   ]
  },
  {
   "cell_type": "markdown",
   "metadata": {},
   "source": [
    "### Run for multiple regions using parallel processing"
   ]
  },
  {
   "cell_type": "code",
   "execution_count": null,
   "metadata": {},
   "outputs": [],
   "source": [
    "start = time.time()\n",
    "\n",
    "if __name__ == '__main__': \n",
    "    with Pool(5) as pool: \n",
    "        pool.map(EAD_multi,regions,chunksize=1)\n",
    "    \n",
    "print(\"The script runned for {} seconds.\".format(time.time()-start))"
   ]
  }
 ],
 "metadata": {
  "kernelspec": {
   "display_name": "Python 3",
   "language": "python",
   "name": "python3"
  },
  "language_info": {
   "codemirror_mode": {
    "name": "ipython",
    "version": 3
   },
   "file_extension": ".py",
   "mimetype": "text/x-python",
   "name": "python",
   "nbconvert_exporter": "python",
   "pygments_lexer": "ipython3",
   "version": "3.8.1"
  }
 },
 "nbformat": 4,
 "nbformat_minor": 4
}
