{
 "cells": [
  {
   "cell_type": "markdown",
   "metadata": {},
   "source": [
    "# Postprocessing: sampling procedure\n"
   ]
  },
  {
   "cell_type": "code",
   "execution_count": 1,
   "metadata": {},
   "outputs": [],
   "source": [
    "import sys\n",
    "sys.path.append(\"..\") #import folder which is one level higher\n",
    "\n",
    "import numpy as np\n",
    "import os as os\n",
    "import time as time\n",
    "import pandas as pd\n",
    "#import seaborn as sns\n",
    "\n",
    "from scipy.interpolate import interp1d\n",
    "\n",
    "from utils_functions import load_config\n",
    "from pathos.multiprocessing import Pool \n",
    "from postproc_functions import sample_OSM_regions_pkl, NUTS_up\n",
    "\n",
    "from pathlib import Path"
   ]
  },
  {
   "cell_type": "code",
   "execution_count": 2,
   "metadata": {},
   "outputs": [
    {
     "data": {
      "text/plain": [
       "1284"
      ]
     },
     "execution_count": 2,
     "metadata": {},
     "output_type": "execute_result"
    }
   ],
   "source": [
    "#This method relies on the _EAD_segment_nomix.pkl data; so first figure out which regions have this data\n",
    "postproc_output_baseline = os.path.join(load_config()['paths']['postproc_output'],'baseline')\n",
    "files = [x for x in os.listdir(postproc_output_baseline) if x.endswith(\"_EAD_segment_nomix.pkl\")]\n",
    "regions = [x.split('_')[0] for x in files]\n",
    "len(regions)"
   ]
  },
  {
   "cell_type": "code",
   "execution_count": 3,
   "metadata": {},
   "outputs": [],
   "source": [
    "test_region = 'CH012'"
   ]
  },
  {
   "cell_type": "code",
   "execution_count": 4,
   "metadata": {},
   "outputs": [
    {
     "name": "stdout",
     "output_type": "stream",
     "text": [
      "CH012 sample OSM regions started\n",
      "CH012 sample OSM regions finished\n"
     ]
    }
   ],
   "source": [
    "df1, df2 = sample_OSM_regions_pkl(test_region)"
   ]
  },
  {
   "cell_type": "code",
   "execution_count": 18,
   "metadata": {},
   "outputs": [
    {
     "data": {
      "text/html": [
       "<div>\n",
       "<style scoped>\n",
       "    .dataframe tbody tr th:only-of-type {\n",
       "        vertical-align: middle;\n",
       "    }\n",
       "\n",
       "    .dataframe tbody tr th {\n",
       "        vertical-align: top;\n",
       "    }\n",
       "\n",
       "    .dataframe thead th {\n",
       "        text-align: right;\n",
       "    }\n",
       "</style>\n",
       "<table border=\"1\" class=\"dataframe\">\n",
       "  <thead>\n",
       "    <tr style=\"text-align: right;\">\n",
       "      <th></th>\n",
       "      <th>low</th>\n",
       "      <th>high</th>\n",
       "      <th>0</th>\n",
       "      <th>1</th>\n",
       "      <th>2</th>\n",
       "      <th>3</th>\n",
       "      <th>4</th>\n",
       "      <th>5</th>\n",
       "      <th>6</th>\n",
       "      <th>7</th>\n",
       "      <th>...</th>\n",
       "      <th>993</th>\n",
       "      <th>994</th>\n",
       "      <th>995</th>\n",
       "      <th>996</th>\n",
       "      <th>997</th>\n",
       "      <th>998</th>\n",
       "      <th>999</th>\n",
       "      <th>Deterministic</th>\n",
       "      <th>Sample_mean</th>\n",
       "      <th>Sample_median</th>\n",
       "    </tr>\n",
       "    <tr>\n",
       "      <th>osm_id</th>\n",
       "      <th></th>\n",
       "      <th></th>\n",
       "      <th></th>\n",
       "      <th></th>\n",
       "      <th></th>\n",
       "      <th></th>\n",
       "      <th></th>\n",
       "      <th></th>\n",
       "      <th></th>\n",
       "      <th></th>\n",
       "      <th></th>\n",
       "      <th></th>\n",
       "      <th></th>\n",
       "      <th></th>\n",
       "      <th></th>\n",
       "      <th></th>\n",
       "      <th></th>\n",
       "      <th></th>\n",
       "      <th></th>\n",
       "      <th></th>\n",
       "      <th></th>\n",
       "    </tr>\n",
       "  </thead>\n",
       "  <tbody>\n",
       "    <tr>\n",
       "      <th>25194400</th>\n",
       "      <td>1020.786966</td>\n",
       "      <td>1122.857004</td>\n",
       "      <td>1024.892438</td>\n",
       "      <td>1021.310914</td>\n",
       "      <td>1046.930872</td>\n",
       "      <td>1104.789925</td>\n",
       "      <td>1085.521125</td>\n",
       "      <td>1075.815965</td>\n",
       "      <td>1044.219327</td>\n",
       "      <td>1072.422978</td>\n",
       "      <td>...</td>\n",
       "      <td>1076.234308</td>\n",
       "      <td>1056.124957</td>\n",
       "      <td>1089.447865</td>\n",
       "      <td>1062.400941</td>\n",
       "      <td>1105.655832</td>\n",
       "      <td>1111.387785</td>\n",
       "      <td>1072.588405</td>\n",
       "      <td>1071.821985</td>\n",
       "      <td>1072.918720</td>\n",
       "      <td>1075.815965</td>\n",
       "    </tr>\n",
       "    <tr>\n",
       "      <th>25194402</th>\n",
       "      <td>412.653034</td>\n",
       "      <td>453.914007</td>\n",
       "      <td>414.312637</td>\n",
       "      <td>412.864835</td>\n",
       "      <td>423.221493</td>\n",
       "      <td>446.610539</td>\n",
       "      <td>438.821286</td>\n",
       "      <td>434.898054</td>\n",
       "      <td>422.125373</td>\n",
       "      <td>433.526467</td>\n",
       "      <td>...</td>\n",
       "      <td>435.067166</td>\n",
       "      <td>426.938126</td>\n",
       "      <td>440.408638</td>\n",
       "      <td>429.475141</td>\n",
       "      <td>446.960575</td>\n",
       "      <td>449.277670</td>\n",
       "      <td>433.593339</td>\n",
       "      <td>433.283521</td>\n",
       "      <td>433.726867</td>\n",
       "      <td>434.898054</td>\n",
       "    </tr>\n",
       "  </tbody>\n",
       "</table>\n",
       "<p>2 rows × 1005 columns</p>\n",
       "</div>"
      ],
      "text/plain": [
       "                  low         high            0            1            2  \\\n",
       "osm_id                                                                      \n",
       "25194400  1020.786966  1122.857004  1024.892438  1021.310914  1046.930872   \n",
       "25194402   412.653034   453.914007   414.312637   412.864835   423.221493   \n",
       "\n",
       "                    3            4            5            6            7  \\\n",
       "osm_id                                                                      \n",
       "25194400  1104.789925  1085.521125  1075.815965  1044.219327  1072.422978   \n",
       "25194402   446.610539   438.821286   434.898054   422.125373   433.526467   \n",
       "\n",
       "          ...          993          994          995          996  \\\n",
       "osm_id    ...                                                       \n",
       "25194400  ...  1076.234308  1056.124957  1089.447865  1062.400941   \n",
       "25194402  ...   435.067166   426.938126   440.408638   429.475141   \n",
       "\n",
       "                  997          998          999  Deterministic  Sample_mean  \\\n",
       "osm_id                                                                        \n",
       "25194400  1105.655832  1111.387785  1072.588405    1071.821985  1072.918720   \n",
       "25194402   446.960575   449.277670   433.593339     433.283521   433.726867   \n",
       "\n",
       "          Sample_median  \n",
       "osm_id                   \n",
       "25194400    1075.815965  \n",
       "25194402     434.898054  \n",
       "\n",
       "[2 rows x 1005 columns]"
      ]
     },
     "execution_count": 18,
     "metadata": {},
     "output_type": "execute_result"
    }
   ],
   "source": [
    "df1['Deterministic'] = df1[['low','high']].mean(axis=1)\n",
    "cols = list(range(0,99))\n",
    "df1['Sample_mean'] = df1[cols].mean(axis=1)\n",
    "df1['Sample_median'] = df1[cols].median(axis=1)\n",
    "df1.head(n=2)"
   ]
  },
  {
   "cell_type": "code",
   "execution_count": 19,
   "metadata": {},
   "outputs": [
    {
     "data": {
      "text/plain": [
       "2787155.5867315764"
      ]
     },
     "execution_count": 19,
     "metadata": {},
     "output_type": "execute_result"
    }
   ],
   "source": [
    "df1['Sample_mean'].sum()"
   ]
  },
  {
   "cell_type": "code",
   "execution_count": 20,
   "metadata": {},
   "outputs": [
    {
     "data": {
      "text/plain": [
       "2892309.7611321635"
      ]
     },
     "execution_count": 20,
     "metadata": {},
     "output_type": "execute_result"
    }
   ],
   "source": [
    "df1['Sample_median'].sum()"
   ]
  },
  {
   "cell_type": "code",
   "execution_count": 5,
   "metadata": {},
   "outputs": [
    {
     "name": "stdout",
     "output_type": "stream",
     "text": [
      "The script runned for 626.5769937038422 seconds.\n"
     ]
    }
   ],
   "source": [
    "start = time.time()\n",
    "\n",
    "if __name__ == '__main__': \n",
    "    with Pool(8) as pool: \n",
    "        pool.map(sample_OSM_regions_pkl,regions,chunksize=1)\n",
    "    \n",
    "print(\"The script runned for {} seconds.\".format(time.time()-start))"
   ]
  },
  {
   "cell_type": "code",
   "execution_count": 8,
   "metadata": {},
   "outputs": [
    {
     "data": {
      "text/plain": [
       "8.0"
      ]
     },
     "execution_count": 8,
     "metadata": {},
     "output_type": "execute_result"
    }
   ],
   "source": []
  },
  {
   "cell_type": "code",
   "execution_count": 4,
   "metadata": {},
   "outputs": [
    {
     "name": "stdout",
     "output_type": "stream",
     "text": [
      "NL33A sample OSM regions started\n",
      "NL33A sample OSM regions finished\n"
     ]
    }
   ],
   "source": [
    "a = sample_OSM_regions_pkl('NL33A')"
   ]
  },
  {
   "cell_type": "code",
   "execution_count": 28,
   "metadata": {},
   "outputs": [
    {
     "data": {
      "text/html": [
       "<div>\n",
       "<style scoped>\n",
       "    .dataframe tbody tr th:only-of-type {\n",
       "        vertical-align: middle;\n",
       "    }\n",
       "\n",
       "    .dataframe tbody tr th {\n",
       "        vertical-align: top;\n",
       "    }\n",
       "\n",
       "    .dataframe thead th {\n",
       "        text-align: right;\n",
       "    }\n",
       "</style>\n",
       "<table border=\"1\" class=\"dataframe\">\n",
       "  <thead>\n",
       "    <tr style=\"text-align: right;\">\n",
       "      <th></th>\n",
       "      <th>0</th>\n",
       "      <th>1</th>\n",
       "      <th>2</th>\n",
       "    </tr>\n",
       "  </thead>\n",
       "  <tbody>\n",
       "    <tr>\n",
       "      <td>0</td>\n",
       "      <td>52502.686264</td>\n",
       "      <td>11557.075020</td>\n",
       "      <td>50746.865567</td>\n",
       "    </tr>\n",
       "    <tr>\n",
       "      <td>1</td>\n",
       "      <td>92745.865467</td>\n",
       "      <td>45952.299605</td>\n",
       "      <td>90631.076174</td>\n",
       "    </tr>\n",
       "    <tr>\n",
       "      <td>2</td>\n",
       "      <td>50071.142012</td>\n",
       "      <td>9478.871650</td>\n",
       "      <td>48337.010655</td>\n",
       "    </tr>\n",
       "    <tr>\n",
       "      <td>3</td>\n",
       "      <td>79157.026549</td>\n",
       "      <td>34338.128565</td>\n",
       "      <td>77163.449509</td>\n",
       "    </tr>\n",
       "    <tr>\n",
       "      <td>4</td>\n",
       "      <td>61381.565901</td>\n",
       "      <td>19145.716504</td>\n",
       "      <td>59546.545722</td>\n",
       "    </tr>\n",
       "    <tr>\n",
       "      <td>...</td>\n",
       "      <td>...</td>\n",
       "      <td>...</td>\n",
       "      <td>...</td>\n",
       "    </tr>\n",
       "    <tr>\n",
       "      <td>95</td>\n",
       "      <td>61926.665261</td>\n",
       "      <td>19611.604520</td>\n",
       "      <td>60086.782803</td>\n",
       "    </tr>\n",
       "    <tr>\n",
       "      <td>96</td>\n",
       "      <td>56400.089834</td>\n",
       "      <td>14888.125740</td>\n",
       "      <td>54609.504351</td>\n",
       "    </tr>\n",
       "    <tr>\n",
       "      <td>97</td>\n",
       "      <td>66893.547300</td>\n",
       "      <td>23856.721993</td>\n",
       "      <td>65009.360323</td>\n",
       "    </tr>\n",
       "    <tr>\n",
       "      <td>98</td>\n",
       "      <td>69026.186727</td>\n",
       "      <td>25679.456019</td>\n",
       "      <td>67122.976636</td>\n",
       "    </tr>\n",
       "    <tr>\n",
       "      <td>99</td>\n",
       "      <td>69497.824861</td>\n",
       "      <td>26082.557859</td>\n",
       "      <td>67590.407765</td>\n",
       "    </tr>\n",
       "  </tbody>\n",
       "</table>\n",
       "<p>100 rows × 3 columns</p>\n",
       "</div>"
      ],
      "text/plain": [
       "               0             1             2\n",
       "0   52502.686264  11557.075020  50746.865567\n",
       "1   92745.865467  45952.299605  90631.076174\n",
       "2   50071.142012   9478.871650  48337.010655\n",
       "3   79157.026549  34338.128565  77163.449509\n",
       "4   61381.565901  19145.716504  59546.545722\n",
       "..           ...           ...           ...\n",
       "95  61926.665261  19611.604520  60086.782803\n",
       "96  56400.089834  14888.125740  54609.504351\n",
       "97  66893.547300  23856.721993  65009.360323\n",
       "98  69026.186727  25679.456019  67122.976636\n",
       "99  69497.824861  26082.557859  67590.407765\n",
       "\n",
       "[100 rows x 3 columns]"
      ]
     },
     "execution_count": 28,
     "metadata": {},
     "output_type": "execute_result"
    }
   ],
   "source": [
    "pd.DataFrame([a,b,c]).T"
   ]
  },
  {
   "cell_type": "code",
   "execution_count": 33,
   "metadata": {},
   "outputs": [
    {
     "data": {
      "text/plain": [
       "0     114806.626851\n",
       "1     229329.241246\n",
       "2     107887.024317\n",
       "3     190658.604622\n",
       "4     140073.828127\n",
       "          ...      \n",
       "95    141625.052584\n",
       "96    125897.719926\n",
       "97    155759.629615\n",
       "98    161828.619383\n",
       "99    163170.790485\n",
       "Length: 100, dtype: float64"
      ]
     },
     "execution_count": 33,
     "metadata": {},
     "output_type": "execute_result"
    }
   ],
   "source": [
    "pd.DataFrame([a,b,c]).T.sum(axis=1)"
   ]
  },
  {
   "cell_type": "code",
   "execution_count": 26,
   "metadata": {},
   "outputs": [
    {
     "data": {
      "text/plain": [
       "<matplotlib.axes._subplots.AxesSubplot at 0x1af8081f320>"
      ]
     },
     "execution_count": 26,
     "metadata": {},
     "output_type": "execute_result"
    },
    {
     "data": {
      "image/png": "[encoded data removed]",
      "text/plain": [
       "<Figure size 432x288 with 1 Axes>"
      ]
     },
     "metadata": {
      "needs_background": "light"
     },
     "output_type": "display_data"
    }
   ],
   "source": [
    "sns.violinplot(data=pd.DataFrame([a,b,c]).T,orient='v')"
   ]
  },
  {
   "cell_type": "code",
   "execution_count": 30,
   "metadata": {},
   "outputs": [
    {
     "data": {
      "text/plain": [
       "<matplotlib.axes._subplots.AxesSubplot at 0x1af85ae0588>"
      ]
     },
     "execution_count": 30,
     "metadata": {},
     "output_type": "execute_result"
    },
    {
     "data": {
      "image/png": "[encoded data removed]",
      "text/plain": [
       "<Figure size 432x288 with 1 Axes>"
      ]
     },
     "metadata": {
      "needs_background": "light"
     },
     "output_type": "display_data"
    }
   ],
   "source": [
    "sns.violinplot(data=pd.DataFrame([a,b,c]).T.sum(axis=1),orient='v')"
   ]
  },
  {
   "cell_type": "code",
   "execution_count": 9,
   "metadata": {},
   "outputs": [
    {
     "data": {
      "text/plain": [
       "array([-1.83911159e+00, -1.97946712e+00, -9.75452307e-01,  1.29197326e+00,\n",
       "        5.36852568e-01,  1.56519178e-01, -1.08171444e+00,  2.35521714e-02,\n",
       "       -2.18807331e+00,  1.97691424e-01,  1.71460632e+00,  3.52326440e-01,\n",
       "        1.46341371e+00, -1.33620266e+00,  9.43271637e-01, -5.56790259e-01,\n",
       "        1.89784270e+00, -6.80552038e-01,  4.48018657e-01, -1.02006683e+00,\n",
       "        1.05352790e+00,  9.92035365e-01, -1.13744173e+00, -6.25507930e-01,\n",
       "        1.25396182e+00, -6.80583958e-02, -7.70753312e-01, -6.01906311e-01,\n",
       "        4.78393941e-01, -1.42843449e+00, -3.25516241e+00, -1.98313085e-01,\n",
       "        1.28255748e+00,  3.48314973e-01,  5.58325938e-01, -5.09799207e-01,\n",
       "       -1.29864880e+00, -1.92873364e-01, -2.56883108e+00, -2.78843519e-01,\n",
       "        1.10425507e+00, -1.55492196e+00,  3.23236885e-01,  1.37788665e+00,\n",
       "        2.26307434e+00,  1.05815524e-01, -4.53865541e-01,  4.75324334e-01,\n",
       "        2.01770047e+00, -2.42015269e-01,  7.04358250e-01,  2.33924115e-01,\n",
       "       -8.92328631e-02,  1.70158747e+00, -8.90974941e-01,  3.13063200e-01,\n",
       "       -6.38806130e-01, -1.31835039e+00,  8.70142978e-01,  1.09090377e+00,\n",
       "       -1.21151036e+00,  1.33316379e+00, -7.90946151e-01, -1.26167357e+00,\n",
       "       -3.74708539e-01,  1.39937130e-01,  2.45971030e-01, -1.16226710e+00,\n",
       "       -8.04098806e-01,  1.11922032e+00,  1.75436138e+00,  3.88939916e-01,\n",
       "        1.97886432e+00, -2.18994436e+00, -2.01116613e+00,  6.35912828e-01,\n",
       "        1.10167565e+00,  2.15858855e-03,  3.38147927e-01,  1.22896514e+00,\n",
       "       -4.93752058e-01,  5.85347563e-01,  1.97478426e+00,  1.08242721e-01,\n",
       "       -1.42156725e-01, -1.47164486e+00, -6.90696893e-02, -1.26590450e+00,\n",
       "        8.31447331e-01, -5.88207246e-01,  9.19081650e-01,  5.04841337e-01,\n",
       "        2.35349188e+00,  1.98482534e-01,  8.13354878e-01, -7.56580359e-01,\n",
       "        4.77093701e-01,  5.83196091e-01,  1.43765185e+00, -2.65628467e-01,\n",
       "       -3.54898243e-01, -7.03544883e-01, -1.72079554e+00, -1.80506474e-01,\n",
       "       -6.87200747e-01, -2.27325771e-02,  1.31471974e+00, -6.87789289e-01,\n",
       "       -1.68450070e-01, -6.71517289e-01, -1.65233472e-02,  5.75163659e-01,\n",
       "        3.11915531e-02,  7.92581878e-01,  6.12817910e-01, -4.24972052e-02,\n",
       "        2.12278272e+00, -8.79331065e-01, -1.17505683e+00, -4.10589032e-01,\n",
       "        2.40021492e+00, -7.05851026e-01,  8.20903618e-01,  5.51628091e-01,\n",
       "       -1.81413667e+00, -1.01826529e+00,  2.00182251e-01,  1.56421335e+00,\n",
       "       -1.05490705e+00,  1.86393666e-02, -8.48240714e-01,  2.51849566e-01,\n",
       "       -1.69786117e-01, -2.35621660e-01, -1.05554556e+00,  6.04805371e-01,\n",
       "        1.20173256e+00, -1.81233514e-01, -5.30664757e-01,  6.28597524e-02,\n",
       "        7.58689830e-02,  2.97911281e+00, -1.49007738e+00,  1.24718029e+00,\n",
       "       -9.06694442e-01,  1.48445566e-01, -2.17505177e+00,  3.27059032e-01,\n",
       "       -2.42545496e+00,  1.90755733e-01, -1.24269406e+00,  2.79906747e-01,\n",
       "       -1.08926116e+00,  8.31342878e-01,  1.35730884e+00,  5.64093803e-01,\n",
       "       -7.17734279e-01,  1.46507778e+00,  1.43448225e-01,  1.23663296e+00,\n",
       "       -5.03893006e-02, -3.70127755e-01,  4.61839951e-01, -1.19600434e+00,\n",
       "       -4.60313591e-01, -3.47179054e-01,  1.84926941e-01,  2.14452454e+00,\n",
       "       -6.23097287e-01, -1.77466861e+00,  4.81628139e-01, -4.92082041e-01,\n",
       "        4.08431165e-01, -1.07639517e+00, -1.09468366e+00, -1.44870974e+00,\n",
       "       -1.11609604e+00, -2.04591343e-01, -1.63632345e+00,  9.67949816e-01,\n",
       "       -5.35752223e-01,  2.85036153e-01,  1.64711312e+00, -8.79924789e-01,\n",
       "       -1.99522962e-02,  4.98204913e-01,  4.92522315e-01,  1.64490305e+00,\n",
       "       -1.01834472e+00, -4.44293116e-01, -1.06467173e-01, -1.62300095e+00,\n",
       "       -1.29446566e+00, -6.14211218e-01, -1.88385133e-01, -8.59947148e-01,\n",
       "        7.03951282e-01, -4.77152457e-01, -8.11658392e-01, -9.63302967e-01,\n",
       "       -1.06049116e+00,  7.56979382e-01,  1.14251999e+00,  1.07793274e-01,\n",
       "        7.46622106e-01,  9.03565326e-02, -1.04644943e-01, -9.21017851e-01,\n",
       "        1.20593917e+00, -4.76495207e-01, -5.19117232e-01, -1.05230433e-02,\n",
       "       -7.53917554e-02, -1.64532760e+00,  8.77739836e-01,  1.57546461e-01,\n",
       "       -1.60376034e+00,  4.50828493e-01,  2.30563936e-01,  4.66997132e-01,\n",
       "       -8.62933236e-01,  6.17911730e-01,  2.04040135e-01,  1.51189330e+00,\n",
       "        4.09382452e-02,  9.90711956e-01,  1.65647166e+00, -3.09733654e+00,\n",
       "       -6.68361501e-01, -1.39927590e-01, -3.65337904e-01,  4.98659624e-01,\n",
       "       -3.33779937e-01,  1.53351217e+00,  1.09173156e+00,  3.27264920e-01,\n",
       "       -2.39999485e+00, -1.37029653e-01,  4.96810926e-01, -9.52086730e-01,\n",
       "       -2.05837890e+00,  5.60537728e-01, -1.52021905e+00,  7.08313798e-01,\n",
       "       -2.82590824e-02,  1.16903828e-01, -1.44769832e+00,  1.80481060e+00,\n",
       "       -8.67245882e-01, -1.62822817e+00, -1.16605588e-01,  9.13783791e-01,\n",
       "       -1.82793031e-01,  9.06431833e-01, -6.38178361e-02,  8.21063353e-01,\n",
       "       -7.01542397e-01,  1.30211322e+00,  6.27248600e-01, -2.40775570e+00,\n",
       "        9.33036630e-01,  1.22541587e+00,  2.61736998e-02,  3.76083011e-01,\n",
       "       -2.48092168e+00,  1.67303673e+00,  2.98339037e-01,  8.86249813e-01,\n",
       "       -4.96180353e-01,  2.93599502e-01,  4.96883147e-02, -9.75761391e-01,\n",
       "        2.62479116e-01,  6.15634637e-01,  9.89941136e-01,  7.61081323e-01,\n",
       "        2.25394319e+00,  2.41531463e-01, -4.85614139e-01,  1.22711820e+00,\n",
       "        3.68454788e-01, -2.25777389e+00, -2.86737166e-01, -8.60097392e-01,\n",
       "       -1.67896981e+00, -3.83993592e-01, -6.30060148e-01,  1.67573268e+00,\n",
       "        7.99793318e-01,  8.56280938e-01,  5.67706796e-01, -5.92149483e-01,\n",
       "       -1.52398693e+00, -5.17255700e-01,  3.69450290e-01,  1.94517456e-01,\n",
       "       -1.43308474e+00, -1.05927417e+00,  2.35264655e-01, -4.17632483e-01,\n",
       "        4.27808846e-01,  2.01304718e+00,  1.83901201e+00,  1.19805489e+00,\n",
       "       -1.02518410e+00, -1.34585006e-01, -7.59841033e-01,  1.28039567e+00,\n",
       "        1.16157489e+00, -6.52453068e-01, -6.84800660e-01,  8.65903820e-01,\n",
       "        2.51601868e+00,  1.35065821e-01, -1.47331278e-01, -1.19597900e-01,\n",
       "        9.48865079e-01, -1.57243051e+00, -7.64895187e-01, -5.29870712e-01,\n",
       "       -1.63160070e+00, -1.25464502e+00,  2.89696692e-01, -5.05009049e-01,\n",
       "       -1.04494587e+00, -4.39455807e-02, -7.19579027e-01,  5.53860702e-01,\n",
       "       -3.48878832e-01, -1.00104147e+00, -4.41549507e-02, -4.84882524e-01,\n",
       "        1.15543041e+00, -1.52022149e+00,  2.11782397e+00,  6.71588742e-01,\n",
       "        1.10240702e+00, -1.66314165e+00, -1.89736365e-01, -6.95388545e-01,\n",
       "        1.93125846e+00,  4.62947961e-01, -1.32590328e+00, -2.14042841e-02,\n",
       "        6.21147771e-01, -1.48066060e+00,  1.38708419e+00,  1.95150388e+00,\n",
       "       -7.21352774e-02, -2.28601997e-01, -7.68413616e-01,  7.60902973e-01,\n",
       "       -2.42953617e+00,  1.44254366e-01, -6.78189953e-02, -2.01925414e+00,\n",
       "        8.83989737e-01,  1.33147717e+00, -1.05028266e-01,  4.68328722e-01,\n",
       "       -1.80257731e+00,  2.02274953e-02, -1.37796673e+00,  1.75714472e+00,\n",
       "       -1.53911038e-01, -9.46599650e-01,  1.68083637e-01,  1.71377089e+00,\n",
       "       -2.26221195e+00, -1.65161089e+00, -6.37273836e-01,  1.54431700e+00,\n",
       "       -8.37256783e-01, -9.17024845e-01, -2.39840295e+00, -1.07579905e-01,\n",
       "        1.50630164e-01,  2.85112144e-01,  2.31369017e+00, -4.57992953e-01,\n",
       "        5.39061411e-01, -4.71164797e-02, -8.76574251e-01,  6.57257012e-01,\n",
       "       -5.64810633e-01,  3.89203360e-02,  3.77771910e-01,  1.25587474e-01,\n",
       "       -1.66364540e+00,  4.97414624e-01, -1.24349625e+00, -1.98098491e-01,\n",
       "        2.35177741e-01, -1.51885965e+00, -5.05480428e-01,  9.57345188e-01,\n",
       "       -2.50315806e-01,  1.68521172e+00,  2.01857029e+00,  7.61575790e-02,\n",
       "       -3.92043039e-01,  5.85308285e-01, -3.48864433e-01, -1.42696299e+00,\n",
       "       -9.66902889e-01, -7.26263783e-02,  1.32999475e-01, -1.24333159e-01,\n",
       "        1.54177562e+00, -4.85708280e-01, -1.09928401e-02, -1.26975929e+00,\n",
       "        1.11976862e+00, -1.63350957e+00, -2.75033640e+00, -1.55741479e+00,\n",
       "       -4.84714552e-01, -1.92885208e-01,  1.47339119e+00,  1.01077991e+00,\n",
       "        1.14209411e+00, -2.09444328e-01, -2.58793572e-01,  1.39736496e+00,\n",
       "        1.07770876e+00,  1.68531461e-02,  1.08115438e-01,  8.73667410e-01,\n",
       "       -9.35950661e-01, -1.01802760e+00, -1.04902653e-01, -2.30606255e-01,\n",
       "       -1.26706946e+00, -1.31961815e+00,  1.24550687e-01,  5.20276219e-01,\n",
       "        7.28409537e-02, -7.86242089e-01, -3.60436997e-01,  1.18227349e+00,\n",
       "        1.82154352e-01,  3.93714656e-01,  1.32360702e+00, -6.52343262e-02,\n",
       "       -4.29922028e-01, -1.02597900e+00, -1.24238907e+00, -5.44934096e-02,\n",
       "       -1.09713616e+00, -5.15326550e-01,  1.94483410e+00,  2.19060671e-02,\n",
       "       -1.75723244e+00,  8.94487423e-01,  6.33817006e-01,  5.66580869e-01,\n",
       "       -1.09602011e+00, -1.59906640e-01,  5.83472785e-02, -1.82347286e+00,\n",
       "       -1.67652649e-01,  8.01753384e-01,  2.23065247e-01, -1.27063363e-01,\n",
       "        2.23194255e+00, -1.21880566e+00, -1.24330603e-01, -4.45790011e-01,\n",
       "       -8.93744697e-01, -1.39395033e+00,  3.61182297e-01,  1.79189543e-01,\n",
       "       -2.16550973e+00,  9.02787425e-01, -5.89424195e-01, -4.10545145e-01,\n",
       "       -4.09423447e-01, -2.66732622e-01, -2.83553063e-01, -2.45630120e+00,\n",
       "        5.48217090e-01,  1.19526288e+00,  1.20595283e-01, -7.53707769e-01,\n",
       "       -3.39177237e-01,  4.71667335e-01,  6.14832893e-01, -5.85864930e-04,\n",
       "       -2.99805360e-02, -8.68662466e-01, -5.56505449e-01,  9.32998617e-02,\n",
       "        8.06299419e-02,  1.48338705e+00, -1.18789286e+00,  7.46551191e-01,\n",
       "       -7.65634364e-01,  1.76148680e+00, -2.36732414e-01,  1.24617932e-01,\n",
       "        6.62215211e-01,  2.06995460e+00,  7.90035691e-02, -1.40380053e+00,\n",
       "       -1.88944209e+00, -6.97581010e-01, -5.21653743e-01,  1.26798188e+00,\n",
       "       -1.21462101e+00,  3.21290365e-01,  4.05739891e-01,  1.92068295e-01,\n",
       "       -3.48245533e-01, -9.32702195e-02, -1.69267889e+00, -3.64351993e-01,\n",
       "       -2.04541367e+00,  2.31312943e-01,  1.87028551e-01, -6.20760653e-01,\n",
       "       -8.33549954e-02, -9.95979128e-01,  1.63351579e+00,  5.78571159e-02,\n",
       "       -1.68789891e+00,  4.90072379e-01,  5.66358216e-01,  7.02500020e-01,\n",
       "       -1.58926575e+00,  1.14419037e+00, -1.31809580e+00, -1.08579573e+00,\n",
       "        1.37927154e-01, -2.60596403e-01,  1.73708215e+00,  6.85783433e-01,\n",
       "        1.43514633e+00, -1.20893147e-01,  1.68011107e+00,  2.19288789e-01,\n",
       "       -4.67753930e-01,  1.63889349e-01, -8.70491734e-01, -9.55439131e-01,\n",
       "       -5.05424400e-01,  6.34421689e-01, -6.32979222e-01, -1.49291847e-01,\n",
       "        9.11613274e-01,  1.53280282e+00, -1.06452905e-01, -5.93645190e-01,\n",
       "       -4.43892280e-01, -9.66381541e-01,  8.68823197e-01, -5.49488844e-01,\n",
       "        3.00636190e-02, -8.04307070e-01,  8.75116988e-01,  2.08020453e-01,\n",
       "        1.20219403e+00,  1.80830469e-01,  7.67302668e-01,  9.30120968e-01,\n",
       "        1.66216914e+00,  8.15734599e-01, -5.62462298e-01, -8.31664368e-01,\n",
       "        1.59003709e+00, -9.52089644e-01,  4.00693509e-01,  1.74403915e+00,\n",
       "        1.35916678e-01,  1.08672734e+00,  1.36108365e+00,  1.14191707e+00,\n",
       "        1.47768710e+00, -5.27009056e-01,  7.11190459e-01,  8.75444127e-01,\n",
       "        7.46562395e-01, -1.27609124e+00,  1.49835431e-01, -1.64883934e-01,\n",
       "       -1.02386002e+00, -4.90337180e-01, -4.39294696e-01,  3.02819276e-02,\n",
       "       -4.04901828e-01,  1.06891962e+00, -9.58324498e-01,  9.08699799e-01,\n",
       "       -8.28872532e-01, -6.85416789e-02,  6.01736807e-01,  2.77744082e-01,\n",
       "        1.09268870e+00,  7.39211609e-01, -5.00132510e-01,  1.61271123e+00,\n",
       "       -9.52208488e-01,  1.46366633e-01,  9.76544447e-01, -5.13977725e-01,\n",
       "        7.08832663e-01, -1.48691807e+00, -1.35239527e+00, -9.05378925e-01,\n",
       "       -8.98894964e-01, -1.01020679e-01,  2.53002010e-01, -1.99545427e-01,\n",
       "       -2.03296240e-01,  9.62716187e-02,  7.88229316e-01,  5.24975718e-01,\n",
       "        1.96028295e-01,  7.13702048e-03,  6.47258697e-01, -5.84958783e-02,\n",
       "        4.33201112e-01,  5.16665083e-01,  1.06624767e+00, -1.33623543e-01,\n",
       "       -3.84555890e-01,  8.18036926e-02,  4.92444522e-01, -1.37498936e-02,\n",
       "       -9.72380255e-01,  1.48661469e+00,  1.71252677e+00,  1.19521569e+00,\n",
       "        7.65506567e-01,  2.03768223e-01, -2.96056721e+00, -9.79801568e-01,\n",
       "       -1.31573220e+00, -9.64891794e-01, -2.22296667e-01, -9.31164966e-01,\n",
       "        1.37082524e+00,  7.44872745e-01,  7.28753749e-01, -9.02889231e-01,\n",
       "        3.20284598e-01,  1.08708462e+00, -5.58634040e-01,  3.72527413e-01,\n",
       "        3.02829968e-01,  1.31631094e+00,  2.62574517e+00,  7.00952821e-01,\n",
       "       -9.88491198e-01,  2.77690073e-01, -4.29312262e-02, -6.07100349e-01,\n",
       "       -2.38632851e-01,  1.28405804e+00, -1.00563590e+00, -6.13455987e-01,\n",
       "        1.60079073e+00,  3.40462364e-01, -3.04728835e-01, -1.01093290e+00,\n",
       "        4.02393076e-02, -1.72939656e+00, -1.58171644e-01,  1.40087265e+00,\n",
       "        1.22303325e+00, -3.70402264e-01,  1.98087429e-01, -1.07794546e+00,\n",
       "       -1.51203613e-01,  8.07555173e-01,  4.82251035e-02, -2.88242828e-01,\n",
       "        2.89303819e-01, -1.38600173e+00, -5.16507810e-01,  5.68092548e-01,\n",
       "        6.75496772e-01,  4.57692961e-01,  8.92005045e-03,  2.10169226e-01,\n",
       "        4.08704322e-01,  2.01462885e+00,  6.35932330e-02, -2.63980519e+00,\n",
       "        9.00293926e-02,  2.33759846e-01,  6.40021422e-01,  7.62181508e-01,\n",
       "        7.45710523e-01, -3.86576148e-01, -1.18364445e+00, -9.95202363e-01,\n",
       "       -1.95951565e-01,  9.44264774e-01, -6.72919603e-01, -3.63802325e-01,\n",
       "       -1.41191283e+00,  4.90628414e-03,  6.40342870e-01, -5.80492111e-01,\n",
       "       -1.04793366e+00,  1.93999350e+00, -1.54320457e-01,  1.81234500e-01,\n",
       "        1.19971372e+00,  5.70028429e-01,  1.99287337e-01,  3.24479644e+00,\n",
       "        1.53656427e-01,  1.81815370e-01, -3.55002841e-01,  1.25233922e-01,\n",
       "       -1.62460454e+00,  3.60004537e-01, -2.11674436e-01,  7.46099202e-01,\n",
       "        4.97822180e-02,  1.35576135e+00, -3.07791744e-01,  6.20278121e-01,\n",
       "        1.54770994e+00,  8.01115599e-02, -2.17643276e-01, -9.28381802e-01,\n",
       "       -6.59682426e-01, -6.18128489e-01,  5.89276414e-01,  2.60590607e+00,\n",
       "        9.40176404e-01, -1.62372152e+00,  2.13977215e-01, -3.43008647e-01,\n",
       "        1.45075368e-01,  2.09507085e-01,  2.26954908e-01, -1.22942583e+00,\n",
       "        9.86779127e-01, -2.67182715e-01, -3.83823737e-01,  5.95097652e-01,\n",
       "        2.78905610e-01,  1.00337039e+00, -2.87027240e-01,  5.57816749e-01,\n",
       "        4.07775705e-02, -2.15092669e+00,  1.24060535e-01,  4.74491812e-02,\n",
       "       -1.13990579e+00, -1.48478608e+00, -1.91912610e+00, -1.74809944e+00,\n",
       "       -4.24801231e-01, -1.78565515e-02,  2.50788227e-01, -8.29793635e-01,\n",
       "        2.52207870e+00,  1.25096882e+00,  1.49162727e+00,  2.53155437e-01,\n",
       "        1.31389081e+00, -1.64239179e-01, -7.49068805e-01, -9.05582385e-01,\n",
       "       -7.38819498e-01, -8.09859137e-01,  4.90754006e-01,  2.74643460e-01,\n",
       "       -5.50288645e-02, -2.48171085e+00, -4.82405770e-01,  1.56293394e+00,\n",
       "        5.28310209e-01, -1.10735268e+00, -1.10080451e+00, -1.52925751e+00,\n",
       "       -4.58747022e-01, -9.59169288e-01, -1.51141759e+00,  7.45565302e-01,\n",
       "       -5.58634753e-01, -7.30430946e-01,  1.86993771e-01,  7.15270850e-01,\n",
       "        7.66367823e-01, -9.57874720e-01, -1.49351232e+00, -2.47696453e-01,\n",
       "        2.40658557e+00, -4.81296172e-01, -4.54466604e-01, -3.80785451e-01,\n",
       "        5.75832967e-01,  4.63340086e-01, -1.21895762e+00, -5.56534129e-01,\n",
       "       -1.13642747e+00, -8.30434699e-01,  5.50771579e-01,  4.40989416e-01,\n",
       "        3.30111432e-01,  1.75651346e-01, -9.87204326e-01, -1.52067982e+00,\n",
       "        1.16368358e+00, -1.83875901e-01,  1.00323977e+00,  1.12291993e+00,\n",
       "        8.71678947e-02, -7.31886234e-02,  3.65343877e-01,  4.06864449e-01,\n",
       "       -7.50392648e-01, -1.79974131e+00, -7.16791344e-01, -3.06729163e-01,\n",
       "        1.46248228e+00, -1.42033747e-01, -4.44893830e-02,  1.96711743e+00,\n",
       "        8.67818236e-01,  4.08084011e-01,  6.45804883e-01, -1.37177314e+00,\n",
       "        2.26075791e+00, -1.36231903e+00,  3.46284035e-01,  1.69988501e+00,\n",
       "       -8.51793020e-01,  1.25398380e+00,  2.56928007e-01,  1.56037985e-01,\n",
       "       -6.77793851e-01, -3.00628685e+00, -1.04746834e+00,  1.11456740e-01,\n",
       "       -8.44908492e-02, -4.74693281e-01,  1.31841602e-01, -5.15341249e-01,\n",
       "        8.01986038e-02,  7.41865189e-01,  5.76729040e-03, -1.46128626e+00,\n",
       "        2.19283490e+00,  2.24525346e+00, -3.02249255e-01, -1.52230961e+00,\n",
       "       -2.18546373e+00,  8.35528757e-01,  3.37975808e-01, -6.99772370e-01,\n",
       "        6.02040436e-01, -8.73767878e-02, -1.15021225e+00,  1.84566734e-01,\n",
       "       -4.95754451e-02, -7.61582863e-02, -6.18704724e-01,  1.31994998e+00,\n",
       "        2.81060329e-01,  6.69853642e-01,  1.81775907e+00,  1.48021492e+00,\n",
       "        1.27880310e+00,  2.00273379e-01, -1.31632169e+00, -5.24340691e-01,\n",
       "        6.87963915e-01, -1.01156187e+00, -4.61694011e-01,  1.28434762e+00,\n",
       "       -2.43878150e-01, -5.87994469e-01,  8.53805974e-02,  1.10815181e+00,\n",
       "        7.98005466e-02,  1.15736500e+00, -2.02063208e-01,  7.30033178e-01,\n",
       "       -9.96236297e-02, -2.04170796e+00, -1.03929747e-01,  1.63800491e+00,\n",
       "        3.56812744e-01,  4.89067210e-02,  4.93054102e-01,  1.12903971e+00,\n",
       "       -1.01288312e-01, -1.03194273e+00, -1.55690606e+00, -4.08723025e-01,\n",
       "       -9.39347913e-02,  6.98498003e-01,  4.39044205e-01, -4.56006209e-01,\n",
       "        9.88105298e-01,  1.80698976e-01, -8.86818703e-02, -1.02087553e+00,\n",
       "       -2.28646948e-01,  5.06677851e-01, -7.03223776e-01,  1.57436040e-02,\n",
       "       -7.79550257e-01, -8.47475679e-01, -3.52743352e-01, -1.87646513e-01,\n",
       "       -4.33190062e-01,  1.24884466e+00,  1.04459627e+00,  6.04405428e-02,\n",
       "        1.10244651e+00, -1.45671060e-01, -2.85328835e-01,  2.31382819e-01,\n",
       "        5.96048594e-01,  1.10102134e+00,  1.51392359e-01,  1.56525982e-01,\n",
       "        6.10266204e-01,  6.82138371e-01,  2.64735235e-01, -1.16814167e+00,\n",
       "       -1.74445575e+00, -8.57296452e-01, -5.80068853e-01,  1.74395172e+00,\n",
       "        4.17081689e-02,  3.55792969e-01,  1.58935427e-01,  5.33264807e-01,\n",
       "       -4.78170935e-01,  7.48807491e-01, -1.31057448e-01,  1.72987483e-01,\n",
       "        1.41205710e+00, -4.48597674e-01, -5.05041390e-01,  9.55923564e-01,\n",
       "       -1.44559301e+00, -2.20238570e-01, -9.73797653e-01, -5.59192009e-01,\n",
       "        3.09181846e-01, -4.68003041e-02,  1.39071966e+00,  7.76594073e-01,\n",
       "       -1.96010329e-01, -1.82040876e+00, -3.52293902e-01, -3.75091570e-01,\n",
       "       -7.40766008e-01, -1.01282982e+00,  1.14671873e-01, -1.21553278e-01,\n",
       "       -3.99130289e-01,  2.01834122e-01,  4.40330438e-01, -2.26413714e+00,\n",
       "       -3.34376505e-02, -3.53429820e-01, -1.39122298e+00,  8.11919082e-01,\n",
       "       -1.61565969e-01, -1.20910997e+00, -3.60606067e-01, -3.70724573e-01,\n",
       "        4.41100716e-01,  6.40000900e-01,  1.19209529e+00,  7.33850291e-02,\n",
       "       -1.84737061e+00,  1.80724961e+00, -5.42544836e-01,  5.30402454e-01,\n",
       "       -9.78460103e-01, -2.60853923e-01,  9.98294085e-01, -1.66211431e+00,\n",
       "       -2.05373480e+00,  8.11755109e-01,  5.44950519e-01,  8.76729397e-01,\n",
       "       -1.16197801e+00,  2.60051201e+00,  1.79387164e+00, -1.36730885e+00,\n",
       "        5.79039465e-01,  1.72913544e-01, -6.15147344e-01,  6.90736698e-01,\n",
       "       -3.69199212e-01,  1.32590710e+00,  1.55053532e+00,  3.00350448e-02])"
      ]
     },
     "execution_count": 9,
     "metadata": {},
     "output_type": "execute_result"
    }
   ],
   "source": [
    "#Create the 1000 samples\n",
    "np.random.normal(0,1,(1000))"
   ]
  }
 ],
 "metadata": {
  "kernelspec": {
   "display_name": "Python 3",
   "language": "python",
   "name": "python3"
  },
  "language_info": {
   "codemirror_mode": {
    "name": "ipython",
    "version": 3
   },
   "file_extension": ".py",
   "mimetype": "text/x-python",
   "name": "python",
   "nbconvert_exporter": "python",
   "pygments_lexer": "ipython3",
   "version": "3.8.1"
  }
 },
 "nbformat": 4,
 "nbformat_minor": 4
}
