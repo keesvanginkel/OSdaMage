{
 "cells": [
  {
   "cell_type": "markdown",
   "metadata": {},
   "source": [
    "### Main script \n",
    "This notebook coordinates the running of the main script, by calling the function 'region_loss_estimation' from main_functions. Before you can run this notebook, you must have finished the preprocessing step. \n",
    "\n",
    "You can run the main script in parallel (using multiprocessing) or for single regions"
   ]
  },
  {
   "cell_type": "code",
   "execution_count": 1,
   "metadata": {},
   "outputs": [],
   "source": [
    "# -*- coding: utf-8 -*-\n",
    "\"\"\"\n",
    "This coordinates the main script 'region_loss_estimation'\n",
    "\n",
    "@author: Kees van Ginkel and Elco Koks\n",
    "\"\"\"\n",
    "\n",
    "import sys\n",
    "sys.path.append(\"..\") #import main project folder which is one level higher\n",
    "\n",
    "import os as os\n",
    "from pathos.multiprocessing import Pool \n",
    "import pdb\n",
    "import time as time\n",
    "import warnings\n",
    "\n",
    "\n",
    "from main_functions import region_loss_estimation\n",
    "from postproc_functions import NUTS_up, NUTS_down, NUTS_0_list\n",
    "from utils_functions import load_config\n",
    "\n",
    "warnings.simplefilter(action='ignore', category=FutureWarning)\n",
    "\n",
    "osm_data = load_config()['paths']['osm_data']\n",
    "output_path = load_config()['paths']['output']"
   ]
  },
  {
   "cell_type": "markdown",
   "metadata": {},
   "source": [
    "### Choose the regions for which to run the script"
   ]
  },
  {
   "cell_type": "code",
   "execution_count": 2,
   "metadata": {},
   "outputs": [],
   "source": [
    "### PREPARE THE REGIONS FOR WHICH TO RUN THE MAIN SCRIPT\n",
    "#regions = [(x.split('.')[0]) for x in os.listdir(osm_data)] #takes the names of the .osm.pbf files as the list of regions to compute over \n",
    "\n",
    "#PREFERRED OPTION 0: (preferred version in the EU version of the model for COACCH)\n",
    "N0_domain = NUTS_0_list(EU28 = True, EFTA=True, CAND=True)\n",
    "N0_exclude = ['MT','CY','TR','IS']\n",
    "N0_domain = [elem for elem in N0_domain if elem not in N0_exclude] #35 countries remaining\n",
    "regions = []\n",
    "for N0 in N0_domain:\n",
    "    regions.extend(NUTS_up(N0,True)) #1519 NUTS-3 regions\n",
    "\n",
    "#OPTION 2: RUN FOR ONE COUNTRY\n",
    "#super_region = 'CH'\n",
    "#regions = NUTS_up(super_region,True)\n",
    "\n",
    "#OPTION 3: RUN FOR MULTIPLE COUNTRIES\n",
    "#super_regions = ['LI','NO']\n",
    "#regions = []\n",
    "#for super_region in super_regions:\n",
    "#    regions.extend(NUTS_up(super_region,True))"
   ]
  },
  {
   "cell_type": "markdown",
   "metadata": {},
   "source": [
    "### Run the model in parallel"
   ]
  },
  {
   "cell_type": "code",
   "execution_count": null,
   "metadata": {},
   "outputs": [],
   "source": [
    "start = time.time()\n",
    "    \n",
    "### Parallel computation\n",
    "if __name__ == '__main__':\n",
    "    with Pool(5) as pool: #set the number of pools suitable for your pc\n",
    "        pool.map(region_loss_estimation,regions,chunksize=1) \n",
    "    \n",
    "end = time.time()\n",
    "print(\"The script runned for {} seconds.\".format(end-start))"
   ]
  },
  {
   "cell_type": "markdown",
   "metadata": {},
   "source": [
    "# Run model for one single region"
   ]
  },
  {
   "cell_type": "code",
   "execution_count": 2,
   "metadata": {},
   "outputs": [
    {
     "name": "stderr",
     "output_type": "stream",
     "text": [
      "rp10_AL013: 100%|█████████████████████████████████████████████████████████████████| 4157/4157 [00:07<00:00, 588.90it/s]\n",
      "rp20_AL013: 100%|█████████████████████████████████████████████████████████████████| 4157/4157 [00:07<00:00, 564.91it/s]\n",
      "rp50_AL013: 100%|█████████████████████████████████████████████████████████████████| 4157/4157 [00:07<00:00, 556.38it/s]\n",
      "rp100_AL013: 100%|████████████████████████████████████████████████████████████████| 4157/4157 [00:07<00:00, 549.64it/s]\n",
      "rp200_AL013: 100%|████████████████████████████████████████████████████████████████| 4157/4157 [00:07<00:00, 543.99it/s]\n",
      "rp500_AL013: 100%|████████████████████████████████████████████████████████████████| 4157/4157 [00:07<00:00, 543.34it/s]\n",
      "AL013: 100%|██████████████████████████████████████████████████████████████████████| 1207/1207 [00:04<00:00, 251.91it/s]\n",
      "AL013: 100%|██████████████████████████████████████████████████████████████████████| 1207/1207 [00:04<00:00, 250.10it/s]\n",
      "AL013: 100%|██████████████████████████████████████████████████████████████████████| 1207/1207 [00:04<00:00, 250.27it/s]\n",
      "AL013: 100%|██████████████████████████████████████████████████████████████████████| 1207/1207 [00:04<00:00, 250.38it/s]\n",
      "AL013: 100%|██████████████████████████████████████████████████████████████████████| 1207/1207 [00:07<00:00, 163.41it/s]\n",
      "AL013: 100%|██████████████████████████████████████████████████████████████████████| 1207/1207 [00:07<00:00, 162.82it/s]\n",
      "AL013: 100%|██████████████████████████████████████████████████████████████████████| 1207/1207 [00:05<00:00, 226.66it/s]\n"
     ]
    }
   ],
   "source": [
    "### Single computation:\n",
    "region_loss_estimation('AL013') "
   ]
  },
  {
   "cell_type": "code",
   "execution_count": 12,
   "metadata": {},
   "outputs": [],
   "source": [
    "### LINEAR COMPUTATION (ONLY USE ONE CORE)\n",
    "#for region in regions: \n",
    "#    region_loss_estimation(region,log_file=\"region_loss_estimation_log_{}.txt\".format(os.getenv('COMPUTERNAME')))"
   ]
  }
 ],
 "metadata": {
  "kernelspec": {
   "display_name": "Python 3",
   "language": "python",
   "name": "python3"
  },
  "language_info": {
   "codemirror_mode": {
    "name": "ipython",
    "version": 3
   },
   "file_extension": ".py",
   "mimetype": "text/x-python",
   "name": "python",
   "nbconvert_exporter": "python",
   "pygments_lexer": "ipython3",
   "version": "3.8.1"
  }
 },
 "nbformat": 4,
 "nbformat_minor": 4
}
