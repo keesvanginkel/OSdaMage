{
 "cells": [
  {
   "cell_type": "markdown",
   "metadata": {},
   "source": [
    "### AoI & FP\n",
    "This is seperate script, which has to be run AFTER the intersection with the hazard maps; and BEFORE the preprocessing step.\n",
    "The script iterates over all OSM-elements; and determines the corresponding Area-of-Influence ID (for connection with the JRC-climate scenarios) and the Flood Protection rasters. It saves this to GeoPandasDataFrames per NUTS-3 region."
   ]
  },
  {
   "cell_type": "code",
   "execution_count": 2,
   "metadata": {},
   "outputs": [],
   "source": [
    "import sys\n",
    "sys.path.append(\"..\") #import folder which is one level higher\n",
    "\n",
    "from postproc_functions import AoI_FP, NUTS_up, NUTS_0_list\n",
    "from pathos.multiprocessing import Pool \n",
    "import os\n",
    "import pickle\n",
    "from utils_functions import load_config\n",
    "\n",
    "\n",
    "main_output = load_config()['paths']['output']"
   ]
  },
  {
   "cell_type": "markdown",
   "metadata": {},
   "source": [
    "### Make a selection of regions for which to run the model"
   ]
  },
  {
   "cell_type": "code",
   "execution_count": 5,
   "metadata": {},
   "outputs": [
    {
     "name": "stdout",
     "output_type": "stream",
     "text": [
      "Will run 1 pickle files\n"
     ]
    }
   ],
   "source": [
    "### RUN FOR 1 NUTS-3 REGION ###\n",
    "regions = ['DE224'] \n",
    "\n",
    "### RUN FOR ALL THE AVAILABLE PICKLES\n",
    "#regions = [(x.split('.')[0]) for x in os.listdir(main_output) if x.endswith(\".pkl\")] #will run the script over all the available pickle outputs\n",
    "\n",
    "### ALTERNATIVELY: ONLY FOR ONE COUNTRY\n",
    "#regions = NUTS_up('CH',True)\n",
    "\n",
    "#RUN FOR ENTIRE EUROPE\n",
    "#N0_domain = NUTS_0_list(EU28 = True, EFTA=True, CAND=True)\n",
    "#N0_exclude = ['MT','CY','TR','IS']\n",
    "#N0_domain = [elem for elem in N0_domain if elem not in N0_exclude] #35 countries remaining\n",
    "#regions = []\n",
    "#for N0 in N0_domain:\n",
    "#    regions.extend(NUTS_up(N0,True)) #1519 NUTS-3 regions\n",
    "\n",
    "\n",
    "print(\"Will run {} pickle files\".format(len(regions)))"
   ]
  },
  {
   "cell_type": "markdown",
   "metadata": {},
   "source": [
    "### Run the model"
   ]
  },
  {
   "cell_type": "code",
   "execution_count": null,
   "metadata": {},
   "outputs": [],
   "source": [
    "#RUN IN PARALLEL\n",
    "if __name__ == '__main__':\n",
    "    with Pool(5) as pool: \n",
    "        pool.map(AoI_FP,regions,chunksize=1) "
   ]
  },
  {
   "cell_type": "code",
   "execution_count": 3,
   "metadata": {},
   "outputs": [
    {
     "name": "stderr",
     "output_type": "stream",
     "text": [
      "C:\\Users\\Ginkel\\AppData\\Local\\Continuum\\anaconda3\\envs\\Leerdam37\\lib\\site-packages\\pyproj\\crs.py:77: FutureWarning: '+init=<authority>:<code>' syntax is deprecated. '<authority>:<code>' is the preferred initialization method.\n",
      "  return _prepare_from_string(\" \".join(pjargs))\n",
      "C:\\Users\\Ginkel\\AppData\\Local\\Continuum\\anaconda3\\envs\\Leerdam37\\lib\\site-packages\\tqdm\\std.py:658: FutureWarning: The Panel class is removed from pandas. Accessing it from the top-level namespace will also be removed in the next version\n",
      "  from pandas import Panel\n"
     ]
    },
    {
     "name": "stdout",
     "output_type": "stream",
     "text": [
      "AL013 finished!\n"
     ]
    }
   ],
   "source": [
    "#RUN FOR ONE SINGLE REGION\n",
    "output = AoI_FP('AL013')"
   ]
  },
  {
   "cell_type": "code",
   "execution_count": 12,
   "metadata": {},
   "outputs": [
    {
     "data": {
      "text/plain": [
       "{'NUTS-3': 'AL013', 'Jongman_FP': 50.0}"
      ]
     },
     "execution_count": 12,
     "metadata": {},
     "output_type": "execute_result"
    }
   ],
   "source": [
    "output['AL013']['263200475']"
   ]
  },
  {
   "cell_type": "code",
   "execution_count": null,
   "metadata": {},
   "outputs": [],
   "source": []
  }
 ],
 "metadata": {
  "kernelspec": {
   "display_name": "Python 3",
   "language": "python",
   "name": "python3"
  },
  "language_info": {
   "codemirror_mode": {
    "name": "ipython",
    "version": 3
   },
   "file_extension": ".py",
   "mimetype": "text/x-python",
   "name": "python",
   "nbconvert_exporter": "python",
   "pygments_lexer": "ipython3",
   "version": "3.8.1"
  }
 },
 "nbformat": 4,
 "nbformat_minor": 4
}
